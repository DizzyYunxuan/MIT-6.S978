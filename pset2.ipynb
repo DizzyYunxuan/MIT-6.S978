{
  "cells": [
    {
      "cell_type": "markdown",
      "metadata": {
        "id": "4glFUe2R9uRc"
      },
      "source": [
        "# **0. Load Preliminary Functions**"
      ]
    },
    {
      "cell_type": "markdown",
      "metadata": {
        "id": "W37lUOmT9yle"
      },
      "source": [
        "# a. Import Libraries and Functions"
      ]
    },
    {
      "cell_type": "code",
      "execution_count": 2,
      "metadata": {
        "id": "-iydqiNU5fGu"
      },
      "outputs": [],
      "source": [
        "import torch\n",
        "import torch.nn as nn\n",
        "import torch.nn.functional as F\n",
        "\n",
        "from torchvision import datasets\n",
        "from torchvision import transforms\n",
        "import matplotlib.pyplot as plt\n",
        "from tqdm.notebook import tqdm\n",
        "import numpy as np\n",
        "from mpl_toolkits.mplot3d import Axes3D\n",
        "\n",
        "device = torch.device('cuda' if torch.cuda.is_available() else 'cpu')\n",
        "# device = torch.device('cpu')\n"
      ]
    },
    {
      "cell_type": "markdown",
      "metadata": {
        "id": "Yb2COTm-ocln"
      },
      "source": [
        "# b. MNIST Data Loader"
      ]
    },
    {
      "cell_type": "code",
      "execution_count": 3,
      "metadata": {
        "id": "-J1xVnVE_6Zm"
      },
      "outputs": [],
      "source": [
        "def binarize_image(tensor):\n",
        "    return (tensor > 0.5).float()\n",
        "\n",
        "tensor_transform = transforms.Compose([\n",
        "    transforms.ToTensor(),\n",
        "    transforms.Lambda(binarize_image)\n",
        "])\n",
        "\n",
        "batch_size = 128\n",
        "train_dataset = datasets.MNIST(root = \"./data\",\n",
        "\t\t\t\t\t\t\t\t\ttrain = True,\n",
        "\t\t\t\t\t\t\t\t\tdownload = True,\n",
        "\t\t\t\t\t\t\t\t\ttransform = tensor_transform)\n",
        "test_dataset = datasets.MNIST(root = \"./data\",\n",
        "\t\t\t\t\t\t\t\t\ttrain = False,\n",
        "\t\t\t\t\t\t\t\t\tdownload = True,\n",
        "\t\t\t\t\t\t\t\t\ttransform = tensor_transform)\n",
        "\n",
        "train_loader = torch.utils.data.DataLoader(dataset = train_dataset,\n",
        "\t\t\t\t\t\t\t   batch_size = batch_size,\n",
        "\t\t\t\t\t\t\t\t shuffle = True)\n",
        "test_loader = torch.utils.data.DataLoader(dataset = test_dataset,\n",
        "\t\t\t\t\t\t\t   batch_size = batch_size,\n",
        "\t\t\t\t\t\t\t\t shuffle = False)\n"
      ]
    },
    {
      "cell_type": "markdown",
      "metadata": {
        "id": "0_5PFYwtohYY"
      },
      "source": [
        "# **1. PixelCNN**\n",
        "\n",
        "\n",
        "# a. Training Function"
      ]
    },
    {
      "cell_type": "code",
      "execution_count": 4,
      "metadata": {
        "id": "jDICmZADIiUE"
      },
      "outputs": [],
      "source": [
        "bce = F.binary_cross_entropy\n",
        "\n",
        "def train(dataloader, model, optimizer, epochs):\n",
        "    losses = []\n",
        "\n",
        "    for epoch in tqdm(range(epochs), desc='Epochs'):\n",
        "        running_loss = 0.0\n",
        "        batch_progress = tqdm(dataloader, desc='Batches', leave=False)\n",
        "\n",
        "        for iter, (images, labels) in enumerate(batch_progress):\n",
        "            images = images.to(device)\n",
        "            tgt = images.clone()\n",
        "            pred = model(images)\n",
        "            loss = bce(pred, tgt)\n",
        "\n",
        "            optimizer.zero_grad()\n",
        "            loss.backward()\n",
        "            optimizer.step()\n",
        "\n",
        "            running_loss += loss.item()\n",
        "\n",
        "            avg_loss = running_loss * batch_size / len(train_dataset)\n",
        "            losses.append(loss.item())\n",
        "\n",
        "        tqdm.write(f'----Epoch [{epoch+1}/{epochs}], Average Loss: {avg_loss:.4f}\\n')\n",
        "\n",
        "    return losses\n"
      ]
    },
    {
      "cell_type": "markdown",
      "metadata": {
        "id": "N0mqbPsCopVJ"
      },
      "source": [
        "# b. Masked Convolution"
      ]
    },
    {
      "cell_type": "code",
      "execution_count": 5,
      "metadata": {
        "id": "46O03X-498n0"
      },
      "outputs": [],
      "source": [
        "class MaskedConv2d(nn.Conv2d):\n",
        "    ##################\n",
        "    ### Problem 2(a): Implement MaskedConv2d\n",
        "    def __init__(self, input_num_c, output_num_c, kernel_size=5, padding=2, type='A'):\n",
        "\n",
        "        # type == 'A' or type == 'B'\n",
        "        # central_weight = 0 or central_weights = 1\n",
        "        # self.maskedConv = torch.nn.Conv2d(input_num_c, output_num_c, kernel_size)\n",
        "        super().__init__(input_num_c, output_num_c, [kernel_size, kernel_size], stride=1, padding=padding)\n",
        "        h_masked_index = kernel_size // 2\n",
        "        w_masked_index = kernel_size // 2\n",
        "        self.mask = torch.ones_like(self.weight)\n",
        "        self.mask[:,:, h_masked_index+1:, :] = 0.0\n",
        "        if type == 'A':\n",
        "          self.mask[:,:, h_masked_index , w_masked_index:] = 0.0\n",
        "        elif type == 'B':\n",
        "          self.mask[:,:, h_masked_index , w_masked_index+1:] = 0.0\n",
        "        self.mask = self.mask.to(device)\n",
        "\n",
        "\n",
        "    def forward(self, x):\n",
        "        # print(self.weight.data.is_cuda)\n",
        "        # print(self.mask.is_cuda)\n",
        "        with torch.no_grad():\n",
        "          self.weight.data *= self.mask\n",
        "        return super(MaskedConv2d, self).forward(x)\n",
        "    ##################\n"
      ]
    },
    {
      "cell_type": "markdown",
      "metadata": {
        "id": "XYUg7AjHottB"
      },
      "source": [
        "# c. Model"
      ]
    },
    {
      "cell_type": "code",
      "execution_count": 6,
      "metadata": {
        "id": "hrG8n5WJAo51"
      },
      "outputs": [],
      "source": [
        "# class PixelCNN(nn.Module):\n",
        "#     ##################\n",
        "#     ### Problem 2(b): Implement PixelCNN\n",
        "#     def __init__(self, imgH, imgW, num_input_c=3, num_inner_c=128, num_output_c=3, num_masked_convs=8):\n",
        "#         super(PixelCNN, self).__init__()\n",
        "#         net = []\n",
        "\n",
        "#         net.append(MaskedConv2d(num_input_c, num_inner_c, 5, 'A', device))\n",
        "#         net.append(torch.nn.LeakyReLU(0.1))\n",
        "#         net.append(torch.nn.LayerNorm([num_inner_c, imgH, imgW]))\n",
        "\n",
        "\n",
        "#         for i in range(num_masked_convs):\n",
        "#           net.append(MaskedConv2d(num_inner_c, num_inner_c, 5, 'B', device))\n",
        "#           net.append(torch.nn.LeakyReLU(0.1))\n",
        "#           net.append(torch.nn.LayerNorm([num_inner_c, imgH, imgW]))\n",
        "\n",
        "#         net.append(MaskedConv2d(num_inner_c, num_output_c, 5, 'A', device))\n",
        "#         net.append(torch.nn.Sigmoid())\n",
        "\n",
        "#         self.net = torch.nn.Sequential(*net)\n",
        "\n",
        "#     def forward(self, x):\n",
        "#         x = self.net(x)\n",
        "#         return x\n",
        "#     ##################\n",
        "\n",
        "\n",
        "\n",
        "\n",
        "# # ori version\n",
        "# class PixelCNN(nn.Module):\n",
        "#     ##################\n",
        "#     ### Problem 2(b): Implement PixelCNN\n",
        "#     def __init__(self, num_input_c=3, num_inner_c=64, num_output_c=3, num_masked_convs=4):\n",
        "#         super(PixelCNN, self).__init__()\n",
        "#         net = []\n",
        "\n",
        "#         net.append(MaskedConv2d(num_input_c, num_inner_c, 5, 'A'))\n",
        "#         net.append(torch.nn.LeakyReLU(0.1))\n",
        "#         net.append(torch.nn.BatchNorm2d([num_inner_c]))\n",
        "\n",
        "\n",
        "#         for i in range(num_masked_convs):\n",
        "#           net.append(MaskedConv2d(num_inner_c, num_inner_c, 5, 'B'))\n",
        "#           net.append(torch.nn.LeakyReLU(0.1))\n",
        "#           net.append(torch.nn.BatchNorm2d([num_inner_c]))\n",
        "\n",
        "#         net.append(MaskedConv2d(num_inner_c, num_output_c, 5, 'A'))\n",
        "#         net.append(torch.nn.Sigmoid())\n",
        "\n",
        "#         self.net = torch.nn.Sequential(*net)\n",
        "\n",
        "#     def forward(self, x):\n",
        "#         x = self.net(x)\n",
        "#         return x\n",
        "#     ##################\n",
        "\n",
        "class residualMaskedConv(nn.Module):\n",
        "    def __init__(self, input_num_dim, output_num_dim):\n",
        "        super().__init__()\n",
        "\n",
        "        net = []\n",
        "        net.append(torch.nn.Conv2d(input_num_dim, input_num_dim // 2, 1))\n",
        "        net.append(torch.nn.ReLU())\n",
        "        net.append(MaskedConv2d(input_num_dim // 2, input_num_dim // 2, 3, padding=1, type='B'))\n",
        "        net.append(torch.nn.ReLU())\n",
        "        net.append(torch.nn.Conv2d(input_num_dim // 2, output_num_dim, 1))\n",
        "        net.append(torch.nn.ReLU())\n",
        "        self.net = torch.nn.Sequential(*net)\n",
        "    \n",
        "    def forward(self, x):\n",
        "        x = x + self.net(x)\n",
        "        return x\n",
        "\n",
        "\n",
        "\n",
        "class PixelCNN(nn.Module):\n",
        "    ##################\n",
        "    ### Problem 2(b): Implement PixelCNN\n",
        "    def __init__(self, num_input_c=1, num_inner_c=64, num_output_c=1, num_masked_convs=4):\n",
        "        super(PixelCNN, self).__init__()\n",
        "        \n",
        "        shallow_fea = []\n",
        "        shallow_fea.append(MaskedConv2d(num_input_c, num_inner_c, 7, 3, 'A'))\n",
        "        shallow_fea.append(torch.nn.LeakyReLU(0.1))\n",
        "\n",
        "\n",
        "        net = []\n",
        "        for i in range(num_masked_convs):\n",
        "          net.append(residualMaskedConv(num_inner_c, num_inner_c))\n",
        "\n",
        "\n",
        "        final_fea = []\n",
        "        final_fea.append(MaskedConv2d(num_inner_c, num_inner_c, 1, 0, 'B'))\n",
        "        final_fea.append(torch.nn.LeakyReLU(0.1))\n",
        "        final_fea.append(MaskedConv2d(num_inner_c, num_output_c, 1, 0, 'B'))\n",
        "        final_fea.append(torch.nn.Sigmoid())\n",
        "\n",
        "        self.sf = torch.nn.Sequential(*shallow_fea)\n",
        "        self.net = torch.nn.Sequential(*net)\n",
        "        self.ff = torch.nn.Sequential(*final_fea)\n",
        "\n",
        "    def forward(self, x):\n",
        "\n",
        "        x = self.sf(x)\n",
        "        x = x + self.net(x)\n",
        "        x = self.ff(x)\n",
        "        return x\n",
        "    ##################"
      ]
    },
    {
      "cell_type": "markdown",
      "metadata": {
        "id": "S2KxDaEBo-9Z"
      },
      "source": [
        "# d. Training"
      ]
    },
    {
      "cell_type": "code",
      "execution_count": 10,
      "metadata": {
        "colab": {
          "base_uri": "https://localhost:8080/",
          "height": 237,
          "referenced_widgets": [
            "b9abdeeab44c4b0e9601b0e1d7710f40",
            "8bc0f4b7207a4c65a922a3a361aab0a4",
            "7c2cadcb5f914c1daeab73a1ad6813b0",
            "38027a3b9e4740e3b84c45ba83e04819",
            "9128f1515a394803a7a0fd51bdfc22cd",
            "2689c721c28341a78868c274373fc8ab",
            "1132052525364c19b476d32e45a12e84",
            "80961b89b2504e7687c594e55737154b",
            "67b7bd4e71804b59ad05acd696794f7a",
            "20203d21e33c46dcb9cb87a0a0150d45",
            "ce2346c06c3945cb85df747158898cce",
            "029c151a863d4e9bba986efec2aa32af",
            "e113a98efe9241059ca8eccaf5c84a32",
            "6335afb9451c46cbb82c2b93bc3f4a38",
            "78582ee0ef89497981b81239e7094b3b",
            "da912472a72448e0be4ec28dd0fa144e",
            "1468f89b3a2c4bda9b73b580f90e8464",
            "ae13954ad6544a6abcb0f0bb73960509",
            "b9587bbe203240499f465c20eef21e12",
            "1ef099cb32424aebb1939e7ddcbaae94",
            "b297b1c5da1b4b65aa56aeaea7e51770",
            "36c14ad27c1049108d4b41faa161da47",
            "5af9f9481e2b4e448b22fe78ff2f22b8",
            "3ae96ef8d60544f783483fb6db045d9f",
            "db50c541e0e44deebdec872e496bc373",
            "4184bc5a57184cc5a85ff8e84f68362e",
            "2623f4f63bf5420f9261be2dfc6b8842",
            "626ebd27471f475098d9caab2ebf410f",
            "f8f3ae9b67fd410bb9cfdea6ddf7f069",
            "4dd18044f6564502a4fcf659f32e8c7d",
            "c9c039a55d2641b8b7b74497c10190bb",
            "93d30591d05f416b8583dfa124cb29b0",
            "bf2c6cdaf03d4764bcfc9162aaa756be",
            "231bee1913514cb6ad0453c4ebbf9c35",
            "045198e37c5d44bf87f2bd777f2cb1a4",
            "98b9f34b628545e585ef0fd331862d59",
            "0deda2341b0649ddbd833bfdc4b7c1f1",
            "9888e7e7b87d4a5bb63900e88ea25542",
            "f3d17766ada44f4da79b72b6df857ac3",
            "d40f46f0e0bf4b1788d593a2757c9efa",
            "31864b0c0d184c42886e8c93179d4e3f",
            "0a69896713a645f08774bbe71d54009c",
            "1ba314e3ac1746d0bbe7ec47bcb724d4",
            "d4a1026582dc42a3b902a7c6d2ae62ea",
            "fdeeef37966f402980963054f3705e7a",
            "33f3720efe19496e980fd824aecd48bb",
            "3ac1081cfea449fcad7a2c40aa3475de",
            "c3b26fce19274304bf9cd0531c0dae79",
            "a1f8b01e99844b269cbd4fe6dd9b395d",
            "a3df0c93d50e4af9a81f15d12e1e344c",
            "2da82954fa504ba7afa562d437803280",
            "fa0614bc95ee4ffba8afe60951b6914c",
            "421084b89cc941f9be5669a32d580d03",
            "090e85410b004066b9a96f87c7cefc9e",
            "a2f25cae3dc54e409dcb6f2e5a7eab02"
          ]
        },
        "id": "_n_2PGRUAzou",
        "outputId": "9b252a7a-4379-4a7d-a435-543b7a464e16"
      },
      "outputs": [
        {
          "name": "stdout",
          "output_type": "stream",
          "text": [
            "PixelCNN(\n",
            "  (sf): Sequential(\n",
            "    (0): MaskedConv2d(1, 64, kernel_size=(7, 7), stride=(1, 1), padding=(3, 3))\n",
            "    (1): LeakyReLU(negative_slope=0.1)\n",
            "  )\n",
            "  (net): Sequential(\n",
            "    (0): residualMaskedConv(\n",
            "      (net): Sequential(\n",
            "        (0): Conv2d(64, 32, kernel_size=(1, 1), stride=(1, 1))\n",
            "        (1): ReLU()\n",
            "        (2): MaskedConv2d(32, 32, kernel_size=(3, 3), stride=(1, 1), padding=(1, 1))\n",
            "        (3): ReLU()\n",
            "        (4): Conv2d(32, 64, kernel_size=(1, 1), stride=(1, 1))\n",
            "        (5): ReLU()\n",
            "      )\n",
            "    )\n",
            "    (1): residualMaskedConv(\n",
            "      (net): Sequential(\n",
            "        (0): Conv2d(64, 32, kernel_size=(1, 1), stride=(1, 1))\n",
            "        (1): ReLU()\n",
            "        (2): MaskedConv2d(32, 32, kernel_size=(3, 3), stride=(1, 1), padding=(1, 1))\n",
            "        (3): ReLU()\n",
            "        (4): Conv2d(32, 64, kernel_size=(1, 1), stride=(1, 1))\n",
            "        (5): ReLU()\n",
            "      )\n",
            "    )\n",
            "    (2): residualMaskedConv(\n",
            "      (net): Sequential(\n",
            "        (0): Conv2d(64, 32, kernel_size=(1, 1), stride=(1, 1))\n",
            "        (1): ReLU()\n",
            "        (2): MaskedConv2d(32, 32, kernel_size=(3, 3), stride=(1, 1), padding=(1, 1))\n",
            "        (3): ReLU()\n",
            "        (4): Conv2d(32, 64, kernel_size=(1, 1), stride=(1, 1))\n",
            "        (5): ReLU()\n",
            "      )\n",
            "    )\n",
            "    (3): residualMaskedConv(\n",
            "      (net): Sequential(\n",
            "        (0): Conv2d(64, 32, kernel_size=(1, 1), stride=(1, 1))\n",
            "        (1): ReLU()\n",
            "        (2): MaskedConv2d(32, 32, kernel_size=(3, 3), stride=(1, 1), padding=(1, 1))\n",
            "        (3): ReLU()\n",
            "        (4): Conv2d(32, 64, kernel_size=(1, 1), stride=(1, 1))\n",
            "        (5): ReLU()\n",
            "      )\n",
            "    )\n",
            "  )\n",
            "  (ff): Sequential(\n",
            "    (0): MaskedConv2d(64, 64, kernel_size=(1, 1), stride=(1, 1))\n",
            "    (1): LeakyReLU(negative_slope=0.1)\n",
            "    (2): MaskedConv2d(64, 1, kernel_size=(1, 1), stride=(1, 1))\n",
            "    (3): Sigmoid()\n",
            "  )\n",
            ")\n"
          ]
        },
        {
          "data": {
            "application/vnd.jupyter.widget-view+json": {
              "model_id": "504e1ff91bfb4af8bd4253f7d84dc72c",
              "version_major": 2,
              "version_minor": 0
            },
            "text/plain": [
              "Epochs:   0%|          | 0/2 [00:00<?, ?it/s]"
            ]
          },
          "metadata": {},
          "output_type": "display_data"
        },
        {
          "data": {
            "application/vnd.jupyter.widget-view+json": {
              "model_id": "3390bba644f04de980048765898dd7a7",
              "version_major": 2,
              "version_minor": 0
            },
            "text/plain": [
              "Batches:   0%|          | 0/469 [00:00<?, ?it/s]"
            ]
          },
          "metadata": {},
          "output_type": "display_data"
        },
        {
          "name": "stdout",
          "output_type": "stream",
          "text": [
            "----Epoch [1/2], Average Loss: 0.1035\n",
            "\n"
          ]
        },
        {
          "data": {
            "application/vnd.jupyter.widget-view+json": {
              "model_id": "8822e16a9ce94ee3b32eda6139f509c6",
              "version_major": 2,
              "version_minor": 0
            },
            "text/plain": [
              "Batches:   0%|          | 0/469 [00:00<?, ?it/s]"
            ]
          },
          "metadata": {},
          "output_type": "display_data"
        },
        {
          "name": "stdout",
          "output_type": "stream",
          "text": [
            "----Epoch [2/2], Average Loss: 0.0917\n",
            "\n"
          ]
        }
      ],
      "source": [
        "##################\n",
        "### Problem 2(c): Training\n",
        "# epochs = 100\n",
        "# model = PixelCNN().to(device)\n",
        "# optimizer = torch.optim.Adam(model.parameters(), lr=0.001)\n",
        "\n",
        "# log = train(train_loader, model, optimizer, epochs)\n",
        "\n",
        "\n",
        "epochs = 2\n",
        "model = PixelCNN(1, 64, 1).to(device)\n",
        "print(model)\n",
        "model.train()\n",
        "optimizer = torch.optim.Adam(model.parameters(), lr=0.01)\n",
        "\n",
        "log = train(train_loader, model, optimizer, epochs)\n",
        "\n",
        "\n",
        "##################\n"
      ]
    },
    {
      "cell_type": "markdown",
      "metadata": {
        "id": "TQnZFPm_pDkc"
      },
      "source": [
        "# e. Evaluation (Reconstruction)"
      ]
    },
    {
      "cell_type": "code",
      "execution_count": 8,
      "metadata": {
        "id": "VFFyeeEjxsxQ"
      },
      "outputs": [
        {
          "data": {
            "image/png": "[encoded data removed]",
            "text/plain": [
              "<Figure size 1500x1500 with 64 Axes>"
            ]
          },
          "metadata": {},
          "output_type": "display_data"
        }
      ],
      "source": [
        "H, W = 28, 28\n",
        "model.eval()\n",
        "with torch.no_grad():\n",
        "  for iter, (images, labels) in enumerate(test_loader):\n",
        "      images = images.to(device)\n",
        "      pred = model(images)\n",
        "\n",
        "      for i in range(H):\n",
        "          for j in range(W):\n",
        "              pred[:, :, i, j] = torch.bernoulli(pred[:, :, i, j], out=pred[:, :, i, j])\n",
        "      break\n",
        "\n",
        "samples = pred.detach().cpu().numpy().transpose(0, 2, 3, 1)\n",
        "fig, axes = plt.subplots(8, 8, figsize=(15, 15))\n",
        "\n",
        "for i in range(64):\n",
        "    sample = samples[i]\n",
        "    row, col = divmod(i, 8)\n",
        "    axes[row, col].imshow(sample, cmap='gray')\n",
        "    axes[row, col].axis('off')\n",
        "\n",
        "plt.tight_layout()\n",
        "plt.show()"
      ]
    },
    {
      "cell_type": "markdown",
      "metadata": {
        "id": "mqr0yIvYpL2_"
      },
      "source": [
        "# f. Evaluation (Generation)"
      ]
    },
    {
      "cell_type": "code",
      "execution_count": 14,
      "metadata": {
        "id": "tQseF8t5BpPU"
      },
      "outputs": [],
      "source": [
        "samples = torch.zeros(size=(64, 1, H, W)).to(device)\n",
        "# samples = torch.ones(size=(64, 1, H, W)).to(device)\n",
        "with torch.no_grad():\n",
        "    for i in range(H):\n",
        "        for j in range(W):\n",
        "            if j > 0 and i > 0:\n",
        "                out = model(samples)\n",
        "                samples[:, :, i, j] = torch.bernoulli(out[:, :, i, j], out=samples[:, :, i, j])\n",
        "\n",
        "samples = samples.cpu().numpy().transpose(0, 2, 3, 1)\n",
        "fig, axes = plt.subplots(8, 8, figsize=(15, 15))\n",
        "\n",
        "for i in range(64):\n",
        "    sample = samples[i]\n",
        "    row, col = divmod(i, 8)\n",
        "    axes[row, col].imshow(sample, cmap='gray')\n",
        "    axes[row, col].axis('off')\n",
        "\n",
        "plt.tight_layout()\n",
        "plt.show()"
      ]
    },
    {
      "cell_type": "code",
      "execution_count": null,
      "metadata": {},
      "outputs": [],
      "source": [
        "plt.imshow(out[0, :, :, :].cpu().numpy().transpose(2, 1, 0), 'gray')"
      ]
    },
    {
      "cell_type": "markdown",
      "metadata": {
        "id": "252Jr5orpZGc"
      },
      "source": [
        "# **2. Conditional PixelCNN**\n",
        "\n",
        "\n",
        "# a. Training Function"
      ]
    },
    {
      "cell_type": "code",
      "execution_count": 14,
      "metadata": {
        "id": "fKgicaMje-hL"
      },
      "outputs": [],
      "source": [
        "def train_cond(dataloader, model, optimizer, epochs, n_classes):\n",
        "    losses = []\n",
        "\n",
        "    for epoch in tqdm(range(epochs), desc='Epochs'):\n",
        "        running_loss = 0.0\n",
        "        batch_progress = tqdm(dataloader, desc='Batches', leave=False)\n",
        "\n",
        "        for iter, (images, labels) in enumerate(batch_progress):\n",
        "            images = images.to(device)\n",
        "            labels = labels.to(device)\n",
        "            tgt = images.clone()\n",
        "            labels = F.one_hot(labels, num_classes=n_classes).float()\n",
        "            pred = model(images, labels)\n",
        "            loss = bce(pred, tgt)\n",
        "\n",
        "            optimizer.zero_grad()\n",
        "            loss.backward()\n",
        "            optimizer.step()\n",
        "\n",
        "            running_loss += loss.item()\n",
        "\n",
        "            avg_loss = running_loss * batch_size / len(train_dataset)\n",
        "            losses.append(loss.item())\n",
        "\n",
        "        tqdm.write(f'----\\nEpoch [{epoch+1}/{epochs}], Average Loss: {avg_loss:.4f}\\n')\n",
        "\n",
        "    return losses"
      ]
    },
    {
      "cell_type": "markdown",
      "metadata": {
        "id": "Nh9gGbKUpfFy"
      },
      "source": [
        "# b. Conditional Masked Convolution"
      ]
    },
    {
      "cell_type": "code",
      "execution_count": 15,
      "metadata": {
        "id": "YUEQ-RzyHdrs"
      },
      "outputs": [],
      "source": [
        "class ConditionalMaskedConv2d(MaskedConv2d):\n",
        "    ##################\n",
        "    ### Problem 3(b): Implement ConditionalMaskedConv2d\n",
        "    def __init__(self, input_num_c, output_num_c, kernel_size=5, padding=2, type='A'):\n",
        "        super().__init__(input_num_c, output_num_c, kernel_size=kernel_size, padding=padding, type=type)\n",
        "        # h_masked_index = kernel_size // 2\n",
        "        # w_masked_index = kernel_size // 2\n",
        "        # self.mask = torch.ones_like(self.weight)\n",
        "        # self.mask[:,:, h_masked_index+1:, :] = 0.0\n",
        "        # if type == 'A':\n",
        "        #   self.mask[:,:, h_masked_index , w_masked_index:] = 0.0\n",
        "        # elif type == 'B':\n",
        "        #   self.mask[:,:, h_masked_index , w_masked_index+1:] = 0.0\n",
        "        self.mask = self.mask.to(device)\n",
        "\n",
        "        self.h_func = torch.nn.Linear(10, 28 * 28).to(device)\n",
        "        self.to(device)\n",
        "\n",
        "    def forward(self, x, class_condition):\n",
        "        vh = self.h_func(class_condition).view(-1, 1, 28, 28)\n",
        "        return super(ConditionalMaskedConv2d, self).forward(x) + vh\n",
        "    ##################\n",
        "\n",
        "\n",
        "class residualConditionalMaskedConv(nn.Module):\n",
        "    def __init__(self, input_num_dim, output_num_dim):\n",
        "        super().__init__()\n",
        "\n",
        "        net0 = []\n",
        "        net0.append(torch.nn.Conv2d(input_num_dim, input_num_dim // 2, 1))\n",
        "        net0.append(torch.nn.ReLU())\n",
        "        \n",
        "        self.conv0 = ConditionalMaskedConv2d(input_num_dim // 2, input_num_dim // 2, 3, padding=1, type='B')\n",
        "        self.relu0 = torch.nn.ReLU()\n",
        "\n",
        "        net2 = []\n",
        "        net2.append(torch.nn.Conv2d(input_num_dim // 2, output_num_dim, 1))\n",
        "        net2.append(torch.nn.ReLU())\n",
        "\n",
        "        self.net0 = torch.nn.Sequential(*net0)\n",
        "        # self.net1 = torch.nn.Sequential(*net1)\n",
        "        self.net2 = torch.nn.Sequential(*net2)\n",
        "        self.to(device)\n",
        "    \n",
        "    def forward(self, x, class_condition):\n",
        "        x = x + self.net2(self.relu0(self.conv0(self.net0(x), class_condition)))\n",
        "        return x\n",
        "    \n",
        "\n",
        "\n",
        "# with torch.no_grad():\n",
        "#     rcmconv = residualConditionalMaskedConv(16, 16).to(device)\n",
        "#     test_tensor = torch.zeros([2, 16, 28, 28]).to(device)\n",
        "#     class_condition = torch.tensor([6,5]).to(device)\n",
        "#     class_condition = F.one_hot(class_condition, num_classes=10).float()\n",
        "#     output = rcmconv(test_tensor, class_condition)\n",
        "#     print(output.shape)\n"
      ]
    },
    {
      "cell_type": "markdown",
      "metadata": {
        "id": "XYhdWZdZpjTy"
      },
      "source": [
        "# c. Model"
      ]
    },
    {
      "cell_type": "code",
      "execution_count": 23,
      "metadata": {
        "id": "sjICYyhWeZUI"
      },
      "outputs": [],
      "source": [
        "class ConditionalPixelCNN(nn.Module):\n",
        "    ##################\n",
        "    ### Problem 3(b): Implement ConditionalPixelCNN\n",
        "    def __init__(self, num_input_c=3, num_inner_c=64, num_output_c=3, num_masked_convs=4):\n",
        "        super(ConditionalPixelCNN, self).__init__()\n",
        "\n",
        "        self.num_masked_convs = num_masked_convs\n",
        "        \n",
        "        self.shallow_fea = torch.nn.ModuleList([])\n",
        "        self.shallow_fea.append(ConditionalMaskedConv2d(num_input_c, num_inner_c, 7, 3, 'A'))\n",
        "        self.shallow_fea.append(torch.nn.LeakyReLU(0.1))\n",
        "\n",
        "\n",
        "        self.resCMConvNet = torch.nn.ModuleList([])\n",
        "        for i in range(num_masked_convs):\n",
        "          self.resCMConvNet.append(residualConditionalMaskedConv(num_inner_c, num_inner_c))\n",
        "\n",
        "\n",
        "        self.final_fea_conv0 = torch.nn.ModuleList([])\n",
        "        self.final_fea_conv0.append(ConditionalMaskedConv2d(num_inner_c, num_inner_c, 1, 0, 'B'))\n",
        "        self.final_fea_conv0.append(torch.nn.LeakyReLU(0.1))\n",
        "\n",
        "\n",
        "        self.final_fea_conv1 = torch.nn.ModuleList([])\n",
        "        self.final_fea_conv1.append(ConditionalMaskedConv2d(num_inner_c, 1, 1, 0, 'B'))\n",
        "        self.final_fea_conv1.append(torch.nn.Sigmoid())\n",
        "        \n",
        "\n",
        "        # self.sf = torch.nn.Sequential(*shallow_fea)\n",
        "        # self.net = torch.nn.Sequential(*resCMConvNet)\n",
        "        # self.ff = torch.nn.Sequential(*self.final_fea_conv1)\n",
        "        self.to(device)\n",
        "\n",
        "    def forward(self, x, class_condition):\n",
        "\n",
        "        # x = self.sf(x, class_condition)\n",
        "        # x = x + self.net(x, class_condition)\n",
        "        # x = self.ff(x, class_condition)\n",
        "\n",
        "        x = self.shallow_fea[0](x, class_condition)\n",
        "        x = self.shallow_fea[1](x)\n",
        "        x_sf = torch.clone(x)\n",
        "        for i in range(self.num_masked_convs):\n",
        "            x_sf = self.resCMConvNet[i](x_sf, class_condition)\n",
        "        x = x + x_sf\n",
        "\n",
        "        x = self.final_fea_conv0[0](x, class_condition)\n",
        "        x = self.final_fea_conv0[1](x)\n",
        "        x = self.final_fea_conv1[0](x, class_condition)\n",
        "        x = self.final_fea_conv1[1](x)\n",
        "\n",
        "        return x"
      ]
    },
    {
      "cell_type": "markdown",
      "metadata": {
        "id": "0V3Skf2mpoN5"
      },
      "source": [
        "# d. Training"
      ]
    },
    {
      "cell_type": "code",
      "execution_count": 25,
      "metadata": {
        "id": "dXkK2VKIeo3K"
      },
      "outputs": [
        {
          "data": {
            "application/vnd.jupyter.widget-view+json": {
              "model_id": "2429a0efa79e4705bc044170f1f903f9",
              "version_major": 2,
              "version_minor": 0
            },
            "text/plain": [
              "Epochs:   0%|          | 0/100 [00:00<?, ?it/s]"
            ]
          },
          "metadata": {},
          "output_type": "display_data"
        },
        {
          "data": {
            "application/vnd.jupyter.widget-view+json": {
              "model_id": "47260c24e5544bddac4c739821492c5a",
              "version_major": 2,
              "version_minor": 0
            },
            "text/plain": [
              "Batches:   0%|          | 0/469 [00:00<?, ?it/s]"
            ]
          },
          "metadata": {},
          "output_type": "display_data"
        },
        {
          "name": "stdout",
          "output_type": "stream",
          "text": [
            "----\n",
            "Epoch [1/100], Average Loss: 0.1255\n",
            "\n"
          ]
        },
        {
          "data": {
            "application/vnd.jupyter.widget-view+json": {
              "model_id": "f1bf55ca6c8c4f37b059861ffbc4896e",
              "version_major": 2,
              "version_minor": 0
            },
            "text/plain": [
              "Batches:   0%|          | 0/469 [00:00<?, ?it/s]"
            ]
          },
          "metadata": {},
          "output_type": "display_data"
        },
        {
          "name": "stdout",
          "output_type": "stream",
          "text": [
            "----\n",
            "Epoch [2/100], Average Loss: 0.0846\n",
            "\n"
          ]
        },
        {
          "data": {
            "application/vnd.jupyter.widget-view+json": {
              "model_id": "19ed660f879849bc8742eccac51ecdf4",
              "version_major": 2,
              "version_minor": 0
            },
            "text/plain": [
              "Batches:   0%|          | 0/469 [00:00<?, ?it/s]"
            ]
          },
          "metadata": {},
          "output_type": "display_data"
        },
        {
          "name": "stdout",
          "output_type": "stream",
          "text": [
            "----\n",
            "Epoch [3/100], Average Loss: 0.0813\n",
            "\n"
          ]
        },
        {
          "data": {
            "application/vnd.jupyter.widget-view+json": {
              "model_id": "40f048d9607d49b2a7e8cdc51ed6cd74",
              "version_major": 2,
              "version_minor": 0
            },
            "text/plain": [
              "Batches:   0%|          | 0/469 [00:00<?, ?it/s]"
            ]
          },
          "metadata": {},
          "output_type": "display_data"
        },
        {
          "name": "stdout",
          "output_type": "stream",
          "text": [
            "----\n",
            "Epoch [4/100], Average Loss: 0.0794\n",
            "\n"
          ]
        },
        {
          "data": {
            "application/vnd.jupyter.widget-view+json": {
              "model_id": "591617fb04b949eaaac276af49098d4d",
              "version_major": 2,
              "version_minor": 0
            },
            "text/plain": [
              "Batches:   0%|          | 0/469 [00:00<?, ?it/s]"
            ]
          },
          "metadata": {},
          "output_type": "display_data"
        },
        {
          "name": "stdout",
          "output_type": "stream",
          "text": [
            "----\n",
            "Epoch [5/100], Average Loss: 0.0783\n",
            "\n"
          ]
        },
        {
          "data": {
            "application/vnd.jupyter.widget-view+json": {
              "model_id": "f0adbe980029483aa258f4cb38682856",
              "version_major": 2,
              "version_minor": 0
            },
            "text/plain": [
              "Batches:   0%|          | 0/469 [00:00<?, ?it/s]"
            ]
          },
          "metadata": {},
          "output_type": "display_data"
        },
        {
          "name": "stdout",
          "output_type": "stream",
          "text": [
            "----\n",
            "Epoch [6/100], Average Loss: 0.0774\n",
            "\n"
          ]
        },
        {
          "data": {
            "application/vnd.jupyter.widget-view+json": {
              "model_id": "5112c7597a5745e5b6fed096600c1d6a",
              "version_major": 2,
              "version_minor": 0
            },
            "text/plain": [
              "Batches:   0%|          | 0/469 [00:00<?, ?it/s]"
            ]
          },
          "metadata": {},
          "output_type": "display_data"
        },
        {
          "name": "stdout",
          "output_type": "stream",
          "text": [
            "----\n",
            "Epoch [7/100], Average Loss: 0.0768\n",
            "\n"
          ]
        },
        {
          "data": {
            "application/vnd.jupyter.widget-view+json": {
              "model_id": "83f07ec94b1748b2b5c7083ed3dd3d6b",
              "version_major": 2,
              "version_minor": 0
            },
            "text/plain": [
              "Batches:   0%|          | 0/469 [00:00<?, ?it/s]"
            ]
          },
          "metadata": {},
          "output_type": "display_data"
        },
        {
          "name": "stdout",
          "output_type": "stream",
          "text": [
            "----\n",
            "Epoch [8/100], Average Loss: 0.0763\n",
            "\n"
          ]
        },
        {
          "data": {
            "application/vnd.jupyter.widget-view+json": {
              "model_id": "147b7bac8bd54ba9930da524bac6f476",
              "version_major": 2,
              "version_minor": 0
            },
            "text/plain": [
              "Batches:   0%|          | 0/469 [00:00<?, ?it/s]"
            ]
          },
          "metadata": {},
          "output_type": "display_data"
        },
        {
          "name": "stdout",
          "output_type": "stream",
          "text": [
            "----\n",
            "Epoch [9/100], Average Loss: 0.0758\n",
            "\n"
          ]
        },
        {
          "data": {
            "application/vnd.jupyter.widget-view+json": {
              "model_id": "3e2b1b4201c14f3292c2afb15c471ad0",
              "version_major": 2,
              "version_minor": 0
            },
            "text/plain": [
              "Batches:   0%|          | 0/469 [00:00<?, ?it/s]"
            ]
          },
          "metadata": {},
          "output_type": "display_data"
        },
        {
          "name": "stdout",
          "output_type": "stream",
          "text": [
            "----\n",
            "Epoch [10/100], Average Loss: 0.0755\n",
            "\n"
          ]
        },
        {
          "data": {
            "application/vnd.jupyter.widget-view+json": {
              "model_id": "54ef5d0b6371497a9a8f6b0ff2a6f2d6",
              "version_major": 2,
              "version_minor": 0
            },
            "text/plain": [
              "Batches:   0%|          | 0/469 [00:00<?, ?it/s]"
            ]
          },
          "metadata": {},
          "output_type": "display_data"
        },
        {
          "name": "stdout",
          "output_type": "stream",
          "text": [
            "----\n",
            "Epoch [11/100], Average Loss: 0.0752\n",
            "\n"
          ]
        },
        {
          "data": {
            "application/vnd.jupyter.widget-view+json": {
              "model_id": "90b580bf94274fcb9d269b7c648134dd",
              "version_major": 2,
              "version_minor": 0
            },
            "text/plain": [
              "Batches:   0%|          | 0/469 [00:00<?, ?it/s]"
            ]
          },
          "metadata": {},
          "output_type": "display_data"
        },
        {
          "name": "stdout",
          "output_type": "stream",
          "text": [
            "----\n",
            "Epoch [12/100], Average Loss: 0.0750\n",
            "\n"
          ]
        },
        {
          "data": {
            "application/vnd.jupyter.widget-view+json": {
              "model_id": "3a4e7f2b4ede442c87be2bcb82743617",
              "version_major": 2,
              "version_minor": 0
            },
            "text/plain": [
              "Batches:   0%|          | 0/469 [00:00<?, ?it/s]"
            ]
          },
          "metadata": {},
          "output_type": "display_data"
        },
        {
          "name": "stdout",
          "output_type": "stream",
          "text": [
            "----\n",
            "Epoch [13/100], Average Loss: 0.0747\n",
            "\n"
          ]
        },
        {
          "data": {
            "application/vnd.jupyter.widget-view+json": {
              "model_id": "98a7b8a60b7d4cf5a43ea94869e331b4",
              "version_major": 2,
              "version_minor": 0
            },
            "text/plain": [
              "Batches:   0%|          | 0/469 [00:00<?, ?it/s]"
            ]
          },
          "metadata": {},
          "output_type": "display_data"
        },
        {
          "name": "stdout",
          "output_type": "stream",
          "text": [
            "----\n",
            "Epoch [14/100], Average Loss: 0.0745\n",
            "\n"
          ]
        },
        {
          "data": {
            "application/vnd.jupyter.widget-view+json": {
              "model_id": "279b1da38f224ec2a176eaca953b37ac",
              "version_major": 2,
              "version_minor": 0
            },
            "text/plain": [
              "Batches:   0%|          | 0/469 [00:00<?, ?it/s]"
            ]
          },
          "metadata": {},
          "output_type": "display_data"
        },
        {
          "name": "stdout",
          "output_type": "stream",
          "text": [
            "----\n",
            "Epoch [15/100], Average Loss: 0.0743\n",
            "\n"
          ]
        },
        {
          "data": {
            "application/vnd.jupyter.widget-view+json": {
              "model_id": "0b8379c7dca24b3a9769afd6e1f8641e",
              "version_major": 2,
              "version_minor": 0
            },
            "text/plain": [
              "Batches:   0%|          | 0/469 [00:00<?, ?it/s]"
            ]
          },
          "metadata": {},
          "output_type": "display_data"
        },
        {
          "name": "stdout",
          "output_type": "stream",
          "text": [
            "----\n",
            "Epoch [16/100], Average Loss: 0.0742\n",
            "\n"
          ]
        },
        {
          "data": {
            "application/vnd.jupyter.widget-view+json": {
              "model_id": "b7da21f00eab4adb8cdaee8c435c7aee",
              "version_major": 2,
              "version_minor": 0
            },
            "text/plain": [
              "Batches:   0%|          | 0/469 [00:00<?, ?it/s]"
            ]
          },
          "metadata": {},
          "output_type": "display_data"
        },
        {
          "name": "stdout",
          "output_type": "stream",
          "text": [
            "----\n",
            "Epoch [17/100], Average Loss: 0.0740\n",
            "\n"
          ]
        },
        {
          "data": {
            "application/vnd.jupyter.widget-view+json": {
              "model_id": "3472575fda664a3f91a5ca45bd0af393",
              "version_major": 2,
              "version_minor": 0
            },
            "text/plain": [
              "Batches:   0%|          | 0/469 [00:00<?, ?it/s]"
            ]
          },
          "metadata": {},
          "output_type": "display_data"
        },
        {
          "name": "stdout",
          "output_type": "stream",
          "text": [
            "----\n",
            "Epoch [18/100], Average Loss: 0.0739\n",
            "\n"
          ]
        },
        {
          "data": {
            "application/vnd.jupyter.widget-view+json": {
              "model_id": "ef787449e4d64734bc4479de8fa4397b",
              "version_major": 2,
              "version_minor": 0
            },
            "text/plain": [
              "Batches:   0%|          | 0/469 [00:00<?, ?it/s]"
            ]
          },
          "metadata": {},
          "output_type": "display_data"
        },
        {
          "name": "stdout",
          "output_type": "stream",
          "text": [
            "----\n",
            "Epoch [19/100], Average Loss: 0.0737\n",
            "\n"
          ]
        },
        {
          "data": {
            "application/vnd.jupyter.widget-view+json": {
              "model_id": "1487bcab41e3468a9cf432eb4f9a8f15",
              "version_major": 2,
              "version_minor": 0
            },
            "text/plain": [
              "Batches:   0%|          | 0/469 [00:00<?, ?it/s]"
            ]
          },
          "metadata": {},
          "output_type": "display_data"
        },
        {
          "name": "stdout",
          "output_type": "stream",
          "text": [
            "----\n",
            "Epoch [20/100], Average Loss: 0.0736\n",
            "\n"
          ]
        },
        {
          "data": {
            "application/vnd.jupyter.widget-view+json": {
              "model_id": "67c805e1b7034beabc4c5d6d884a7302",
              "version_major": 2,
              "version_minor": 0
            },
            "text/plain": [
              "Batches:   0%|          | 0/469 [00:00<?, ?it/s]"
            ]
          },
          "metadata": {},
          "output_type": "display_data"
        },
        {
          "name": "stdout",
          "output_type": "stream",
          "text": [
            "----\n",
            "Epoch [21/100], Average Loss: 0.0735\n",
            "\n"
          ]
        },
        {
          "data": {
            "application/vnd.jupyter.widget-view+json": {
              "model_id": "042aa4046d574bd6a9dc4104d030bdd7",
              "version_major": 2,
              "version_minor": 0
            },
            "text/plain": [
              "Batches:   0%|          | 0/469 [00:00<?, ?it/s]"
            ]
          },
          "metadata": {},
          "output_type": "display_data"
        },
        {
          "name": "stdout",
          "output_type": "stream",
          "text": [
            "----\n",
            "Epoch [22/100], Average Loss: 0.0734\n",
            "\n"
          ]
        },
        {
          "data": {
            "application/vnd.jupyter.widget-view+json": {
              "model_id": "c5bb3f169f5f423f86bb8d3e5d3dea3a",
              "version_major": 2,
              "version_minor": 0
            },
            "text/plain": [
              "Batches:   0%|          | 0/469 [00:00<?, ?it/s]"
            ]
          },
          "metadata": {},
          "output_type": "display_data"
        },
        {
          "name": "stdout",
          "output_type": "stream",
          "text": [
            "----\n",
            "Epoch [23/100], Average Loss: 0.0734\n",
            "\n"
          ]
        },
        {
          "data": {
            "application/vnd.jupyter.widget-view+json": {
              "model_id": "07900d40dc324d578ffe6d6bca7d7f5b",
              "version_major": 2,
              "version_minor": 0
            },
            "text/plain": [
              "Batches:   0%|          | 0/469 [00:00<?, ?it/s]"
            ]
          },
          "metadata": {},
          "output_type": "display_data"
        },
        {
          "name": "stdout",
          "output_type": "stream",
          "text": [
            "----\n",
            "Epoch [24/100], Average Loss: 0.0732\n",
            "\n"
          ]
        },
        {
          "data": {
            "application/vnd.jupyter.widget-view+json": {
              "model_id": "71aeb692ab18450ca726bf6eae650679",
              "version_major": 2,
              "version_minor": 0
            },
            "text/plain": [
              "Batches:   0%|          | 0/469 [00:00<?, ?it/s]"
            ]
          },
          "metadata": {},
          "output_type": "display_data"
        },
        {
          "name": "stdout",
          "output_type": "stream",
          "text": [
            "----\n",
            "Epoch [25/100], Average Loss: 0.0731\n",
            "\n"
          ]
        },
        {
          "data": {
            "application/vnd.jupyter.widget-view+json": {
              "model_id": "28979a34f4cb491ea250c2e6098e14f8",
              "version_major": 2,
              "version_minor": 0
            },
            "text/plain": [
              "Batches:   0%|          | 0/469 [00:00<?, ?it/s]"
            ]
          },
          "metadata": {},
          "output_type": "display_data"
        },
        {
          "name": "stdout",
          "output_type": "stream",
          "text": [
            "----\n",
            "Epoch [26/100], Average Loss: 0.0731\n",
            "\n"
          ]
        },
        {
          "data": {
            "application/vnd.jupyter.widget-view+json": {
              "model_id": "3f67ff230e234968b59b984f0c37992c",
              "version_major": 2,
              "version_minor": 0
            },
            "text/plain": [
              "Batches:   0%|          | 0/469 [00:00<?, ?it/s]"
            ]
          },
          "metadata": {},
          "output_type": "display_data"
        },
        {
          "name": "stdout",
          "output_type": "stream",
          "text": [
            "----\n",
            "Epoch [27/100], Average Loss: 0.0730\n",
            "\n"
          ]
        },
        {
          "data": {
            "application/vnd.jupyter.widget-view+json": {
              "model_id": "46cba097b5fa440980029264ef799291",
              "version_major": 2,
              "version_minor": 0
            },
            "text/plain": [
              "Batches:   0%|          | 0/469 [00:00<?, ?it/s]"
            ]
          },
          "metadata": {},
          "output_type": "display_data"
        },
        {
          "name": "stdout",
          "output_type": "stream",
          "text": [
            "----\n",
            "Epoch [28/100], Average Loss: 0.0729\n",
            "\n"
          ]
        },
        {
          "data": {
            "application/vnd.jupyter.widget-view+json": {
              "model_id": "06cfc4f6616441fa82cc0d206e9702e7",
              "version_major": 2,
              "version_minor": 0
            },
            "text/plain": [
              "Batches:   0%|          | 0/469 [00:00<?, ?it/s]"
            ]
          },
          "metadata": {},
          "output_type": "display_data"
        },
        {
          "name": "stdout",
          "output_type": "stream",
          "text": [
            "----\n",
            "Epoch [29/100], Average Loss: 0.0728\n",
            "\n"
          ]
        },
        {
          "data": {
            "application/vnd.jupyter.widget-view+json": {
              "model_id": "ec47bb9f72704d478666e85804b11d6e",
              "version_major": 2,
              "version_minor": 0
            },
            "text/plain": [
              "Batches:   0%|          | 0/469 [00:00<?, ?it/s]"
            ]
          },
          "metadata": {},
          "output_type": "display_data"
        },
        {
          "name": "stdout",
          "output_type": "stream",
          "text": [
            "----\n",
            "Epoch [30/100], Average Loss: 0.0727\n",
            "\n"
          ]
        },
        {
          "data": {
            "application/vnd.jupyter.widget-view+json": {
              "model_id": "3b154be1deb94cb28052c2816500f74f",
              "version_major": 2,
              "version_minor": 0
            },
            "text/plain": [
              "Batches:   0%|          | 0/469 [00:00<?, ?it/s]"
            ]
          },
          "metadata": {},
          "output_type": "display_data"
        },
        {
          "name": "stdout",
          "output_type": "stream",
          "text": [
            "----\n",
            "Epoch [31/100], Average Loss: 0.0727\n",
            "\n"
          ]
        },
        {
          "data": {
            "application/vnd.jupyter.widget-view+json": {
              "model_id": "9a89c33377774d02ae7cee3a28569272",
              "version_major": 2,
              "version_minor": 0
            },
            "text/plain": [
              "Batches:   0%|          | 0/469 [00:00<?, ?it/s]"
            ]
          },
          "metadata": {},
          "output_type": "display_data"
        },
        {
          "name": "stdout",
          "output_type": "stream",
          "text": [
            "----\n",
            "Epoch [32/100], Average Loss: 0.0726\n",
            "\n"
          ]
        },
        {
          "data": {
            "application/vnd.jupyter.widget-view+json": {
              "model_id": "aa2503b7febd4e76b1a89780ee8597d9",
              "version_major": 2,
              "version_minor": 0
            },
            "text/plain": [
              "Batches:   0%|          | 0/469 [00:00<?, ?it/s]"
            ]
          },
          "metadata": {},
          "output_type": "display_data"
        },
        {
          "name": "stdout",
          "output_type": "stream",
          "text": [
            "----\n",
            "Epoch [33/100], Average Loss: 0.0726\n",
            "\n"
          ]
        },
        {
          "data": {
            "application/vnd.jupyter.widget-view+json": {
              "model_id": "68fd262b95fe4aeda90a2a2e2eb403aa",
              "version_major": 2,
              "version_minor": 0
            },
            "text/plain": [
              "Batches:   0%|          | 0/469 [00:00<?, ?it/s]"
            ]
          },
          "metadata": {},
          "output_type": "display_data"
        },
        {
          "name": "stdout",
          "output_type": "stream",
          "text": [
            "----\n",
            "Epoch [34/100], Average Loss: 0.0725\n",
            "\n"
          ]
        },
        {
          "data": {
            "application/vnd.jupyter.widget-view+json": {
              "model_id": "bd766a2ab55e4fefba86db33396a9279",
              "version_major": 2,
              "version_minor": 0
            },
            "text/plain": [
              "Batches:   0%|          | 0/469 [00:00<?, ?it/s]"
            ]
          },
          "metadata": {},
          "output_type": "display_data"
        },
        {
          "name": "stdout",
          "output_type": "stream",
          "text": [
            "----\n",
            "Epoch [35/100], Average Loss: 0.0724\n",
            "\n"
          ]
        },
        {
          "data": {
            "application/vnd.jupyter.widget-view+json": {
              "model_id": "0a56deefb86f49479f7950d86cd7d8ae",
              "version_major": 2,
              "version_minor": 0
            },
            "text/plain": [
              "Batches:   0%|          | 0/469 [00:00<?, ?it/s]"
            ]
          },
          "metadata": {},
          "output_type": "display_data"
        },
        {
          "name": "stdout",
          "output_type": "stream",
          "text": [
            "----\n",
            "Epoch [36/100], Average Loss: 0.0724\n",
            "\n"
          ]
        },
        {
          "data": {
            "application/vnd.jupyter.widget-view+json": {
              "model_id": "b381d45013e0486cb4df45bbf2acd9f2",
              "version_major": 2,
              "version_minor": 0
            },
            "text/plain": [
              "Batches:   0%|          | 0/469 [00:00<?, ?it/s]"
            ]
          },
          "metadata": {},
          "output_type": "display_data"
        },
        {
          "name": "stdout",
          "output_type": "stream",
          "text": [
            "----\n",
            "Epoch [37/100], Average Loss: 0.0724\n",
            "\n"
          ]
        },
        {
          "data": {
            "application/vnd.jupyter.widget-view+json": {
              "model_id": "4734fb6812a7494eac5fe35e3f840a56",
              "version_major": 2,
              "version_minor": 0
            },
            "text/plain": [
              "Batches:   0%|          | 0/469 [00:00<?, ?it/s]"
            ]
          },
          "metadata": {},
          "output_type": "display_data"
        },
        {
          "name": "stdout",
          "output_type": "stream",
          "text": [
            "----\n",
            "Epoch [38/100], Average Loss: 0.0723\n",
            "\n"
          ]
        },
        {
          "data": {
            "application/vnd.jupyter.widget-view+json": {
              "model_id": "53d22a96c87f45fb99d2db0d84bd5256",
              "version_major": 2,
              "version_minor": 0
            },
            "text/plain": [
              "Batches:   0%|          | 0/469 [00:00<?, ?it/s]"
            ]
          },
          "metadata": {},
          "output_type": "display_data"
        },
        {
          "name": "stdout",
          "output_type": "stream",
          "text": [
            "----\n",
            "Epoch [39/100], Average Loss: 0.0723\n",
            "\n"
          ]
        },
        {
          "data": {
            "application/vnd.jupyter.widget-view+json": {
              "model_id": "ab8b463530f04fa689d0543f4b94959d",
              "version_major": 2,
              "version_minor": 0
            },
            "text/plain": [
              "Batches:   0%|          | 0/469 [00:00<?, ?it/s]"
            ]
          },
          "metadata": {},
          "output_type": "display_data"
        },
        {
          "name": "stdout",
          "output_type": "stream",
          "text": [
            "----\n",
            "Epoch [40/100], Average Loss: 0.0722\n",
            "\n"
          ]
        },
        {
          "data": {
            "application/vnd.jupyter.widget-view+json": {
              "model_id": "0adbb9ec44bf4b99ad16be11c2ff2d95",
              "version_major": 2,
              "version_minor": 0
            },
            "text/plain": [
              "Batches:   0%|          | 0/469 [00:00<?, ?it/s]"
            ]
          },
          "metadata": {},
          "output_type": "display_data"
        },
        {
          "name": "stdout",
          "output_type": "stream",
          "text": [
            "----\n",
            "Epoch [41/100], Average Loss: 0.0722\n",
            "\n"
          ]
        },
        {
          "data": {
            "application/vnd.jupyter.widget-view+json": {
              "model_id": "4de5622f452f464f88471293ba76811b",
              "version_major": 2,
              "version_minor": 0
            },
            "text/plain": [
              "Batches:   0%|          | 0/469 [00:00<?, ?it/s]"
            ]
          },
          "metadata": {},
          "output_type": "display_data"
        },
        {
          "name": "stdout",
          "output_type": "stream",
          "text": [
            "----\n",
            "Epoch [42/100], Average Loss: 0.0721\n",
            "\n"
          ]
        },
        {
          "data": {
            "application/vnd.jupyter.widget-view+json": {
              "model_id": "e3ce3199c09f49e0a859e4d477e6e00d",
              "version_major": 2,
              "version_minor": 0
            },
            "text/plain": [
              "Batches:   0%|          | 0/469 [00:00<?, ?it/s]"
            ]
          },
          "metadata": {},
          "output_type": "display_data"
        },
        {
          "name": "stdout",
          "output_type": "stream",
          "text": [
            "----\n",
            "Epoch [43/100], Average Loss: 0.0721\n",
            "\n"
          ]
        },
        {
          "data": {
            "application/vnd.jupyter.widget-view+json": {
              "model_id": "3436c556296e4ba08a167406f5fda0cc",
              "version_major": 2,
              "version_minor": 0
            },
            "text/plain": [
              "Batches:   0%|          | 0/469 [00:00<?, ?it/s]"
            ]
          },
          "metadata": {},
          "output_type": "display_data"
        },
        {
          "name": "stdout",
          "output_type": "stream",
          "text": [
            "----\n",
            "Epoch [44/100], Average Loss: 0.0721\n",
            "\n"
          ]
        },
        {
          "data": {
            "application/vnd.jupyter.widget-view+json": {
              "model_id": "695ea276c4644d03b861f72ecedec5be",
              "version_major": 2,
              "version_minor": 0
            },
            "text/plain": [
              "Batches:   0%|          | 0/469 [00:00<?, ?it/s]"
            ]
          },
          "metadata": {},
          "output_type": "display_data"
        },
        {
          "name": "stdout",
          "output_type": "stream",
          "text": [
            "----\n",
            "Epoch [45/100], Average Loss: 0.0720\n",
            "\n"
          ]
        },
        {
          "data": {
            "application/vnd.jupyter.widget-view+json": {
              "model_id": "3e26f688ee404de6b302fe70fd87bb83",
              "version_major": 2,
              "version_minor": 0
            },
            "text/plain": [
              "Batches:   0%|          | 0/469 [00:00<?, ?it/s]"
            ]
          },
          "metadata": {},
          "output_type": "display_data"
        },
        {
          "name": "stdout",
          "output_type": "stream",
          "text": [
            "----\n",
            "Epoch [46/100], Average Loss: 0.0720\n",
            "\n"
          ]
        },
        {
          "data": {
            "application/vnd.jupyter.widget-view+json": {
              "model_id": "da41279cae824ee6b923735b614e2e6c",
              "version_major": 2,
              "version_minor": 0
            },
            "text/plain": [
              "Batches:   0%|          | 0/469 [00:00<?, ?it/s]"
            ]
          },
          "metadata": {},
          "output_type": "display_data"
        },
        {
          "name": "stdout",
          "output_type": "stream",
          "text": [
            "----\n",
            "Epoch [47/100], Average Loss: 0.0719\n",
            "\n"
          ]
        },
        {
          "data": {
            "application/vnd.jupyter.widget-view+json": {
              "model_id": "0a7fbbfe21e644308c9a4ecfea1c48ae",
              "version_major": 2,
              "version_minor": 0
            },
            "text/plain": [
              "Batches:   0%|          | 0/469 [00:00<?, ?it/s]"
            ]
          },
          "metadata": {},
          "output_type": "display_data"
        },
        {
          "name": "stdout",
          "output_type": "stream",
          "text": [
            "----\n",
            "Epoch [48/100], Average Loss: 0.0719\n",
            "\n"
          ]
        },
        {
          "data": {
            "application/vnd.jupyter.widget-view+json": {
              "model_id": "f3141aadaa1f4d49833bd64600db69b8",
              "version_major": 2,
              "version_minor": 0
            },
            "text/plain": [
              "Batches:   0%|          | 0/469 [00:00<?, ?it/s]"
            ]
          },
          "metadata": {},
          "output_type": "display_data"
        },
        {
          "name": "stdout",
          "output_type": "stream",
          "text": [
            "----\n",
            "Epoch [49/100], Average Loss: 0.0719\n",
            "\n"
          ]
        },
        {
          "data": {
            "application/vnd.jupyter.widget-view+json": {
              "model_id": "7ff64db7871f4c039583a6a1966d796f",
              "version_major": 2,
              "version_minor": 0
            },
            "text/plain": [
              "Batches:   0%|          | 0/469 [00:00<?, ?it/s]"
            ]
          },
          "metadata": {},
          "output_type": "display_data"
        },
        {
          "name": "stdout",
          "output_type": "stream",
          "text": [
            "----\n",
            "Epoch [50/100], Average Loss: 0.0718\n",
            "\n"
          ]
        },
        {
          "data": {
            "application/vnd.jupyter.widget-view+json": {
              "model_id": "917e5e833c7048a9a3d89828cb364d1d",
              "version_major": 2,
              "version_minor": 0
            },
            "text/plain": [
              "Batches:   0%|          | 0/469 [00:00<?, ?it/s]"
            ]
          },
          "metadata": {},
          "output_type": "display_data"
        },
        {
          "name": "stdout",
          "output_type": "stream",
          "text": [
            "----\n",
            "Epoch [51/100], Average Loss: 0.0718\n",
            "\n"
          ]
        },
        {
          "data": {
            "application/vnd.jupyter.widget-view+json": {
              "model_id": "a0b779ae9da3468b95950f8e3bfdfeda",
              "version_major": 2,
              "version_minor": 0
            },
            "text/plain": [
              "Batches:   0%|          | 0/469 [00:00<?, ?it/s]"
            ]
          },
          "metadata": {},
          "output_type": "display_data"
        },
        {
          "name": "stdout",
          "output_type": "stream",
          "text": [
            "----\n",
            "Epoch [52/100], Average Loss: 0.0717\n",
            "\n"
          ]
        },
        {
          "data": {
            "application/vnd.jupyter.widget-view+json": {
              "model_id": "5306a8fe423d410db6bd6773220fee24",
              "version_major": 2,
              "version_minor": 0
            },
            "text/plain": [
              "Batches:   0%|          | 0/469 [00:00<?, ?it/s]"
            ]
          },
          "metadata": {},
          "output_type": "display_data"
        },
        {
          "name": "stdout",
          "output_type": "stream",
          "text": [
            "----\n",
            "Epoch [53/100], Average Loss: 0.0717\n",
            "\n"
          ]
        },
        {
          "data": {
            "application/vnd.jupyter.widget-view+json": {
              "model_id": "5d1609a1205d42cd9b854ae71a5ba811",
              "version_major": 2,
              "version_minor": 0
            },
            "text/plain": [
              "Batches:   0%|          | 0/469 [00:00<?, ?it/s]"
            ]
          },
          "metadata": {},
          "output_type": "display_data"
        },
        {
          "name": "stdout",
          "output_type": "stream",
          "text": [
            "----\n",
            "Epoch [54/100], Average Loss: 0.0717\n",
            "\n"
          ]
        },
        {
          "data": {
            "application/vnd.jupyter.widget-view+json": {
              "model_id": "020f8023ee924e5887ff84f9194d3c6f",
              "version_major": 2,
              "version_minor": 0
            },
            "text/plain": [
              "Batches:   0%|          | 0/469 [00:00<?, ?it/s]"
            ]
          },
          "metadata": {},
          "output_type": "display_data"
        },
        {
          "name": "stdout",
          "output_type": "stream",
          "text": [
            "----\n",
            "Epoch [55/100], Average Loss: 0.0716\n",
            "\n"
          ]
        },
        {
          "data": {
            "application/vnd.jupyter.widget-view+json": {
              "model_id": "0e999746db82485696221e5718b5da7c",
              "version_major": 2,
              "version_minor": 0
            },
            "text/plain": [
              "Batches:   0%|          | 0/469 [00:00<?, ?it/s]"
            ]
          },
          "metadata": {},
          "output_type": "display_data"
        },
        {
          "name": "stdout",
          "output_type": "stream",
          "text": [
            "----\n",
            "Epoch [56/100], Average Loss: 0.0717\n",
            "\n"
          ]
        },
        {
          "data": {
            "application/vnd.jupyter.widget-view+json": {
              "model_id": "948f05c89ebc42aaa1d2eda7614bb9d9",
              "version_major": 2,
              "version_minor": 0
            },
            "text/plain": [
              "Batches:   0%|          | 0/469 [00:00<?, ?it/s]"
            ]
          },
          "metadata": {},
          "output_type": "display_data"
        },
        {
          "name": "stdout",
          "output_type": "stream",
          "text": [
            "----\n",
            "Epoch [57/100], Average Loss: 0.0716\n",
            "\n"
          ]
        },
        {
          "data": {
            "application/vnd.jupyter.widget-view+json": {
              "model_id": "b832ff07516740fc8e2def6fbd9081d8",
              "version_major": 2,
              "version_minor": 0
            },
            "text/plain": [
              "Batches:   0%|          | 0/469 [00:00<?, ?it/s]"
            ]
          },
          "metadata": {},
          "output_type": "display_data"
        },
        {
          "name": "stdout",
          "output_type": "stream",
          "text": [
            "----\n",
            "Epoch [58/100], Average Loss: 0.0716\n",
            "\n"
          ]
        },
        {
          "data": {
            "application/vnd.jupyter.widget-view+json": {
              "model_id": "3d94b45f59bf4b3b839796ea6d22d759",
              "version_major": 2,
              "version_minor": 0
            },
            "text/plain": [
              "Batches:   0%|          | 0/469 [00:00<?, ?it/s]"
            ]
          },
          "metadata": {},
          "output_type": "display_data"
        },
        {
          "name": "stdout",
          "output_type": "stream",
          "text": [
            "----\n",
            "Epoch [59/100], Average Loss: 0.0716\n",
            "\n"
          ]
        },
        {
          "data": {
            "application/vnd.jupyter.widget-view+json": {
              "model_id": "2090e8f894fb47c2bc69281ce732c1a8",
              "version_major": 2,
              "version_minor": 0
            },
            "text/plain": [
              "Batches:   0%|          | 0/469 [00:00<?, ?it/s]"
            ]
          },
          "metadata": {},
          "output_type": "display_data"
        },
        {
          "name": "stdout",
          "output_type": "stream",
          "text": [
            "----\n",
            "Epoch [60/100], Average Loss: 0.0715\n",
            "\n"
          ]
        },
        {
          "data": {
            "application/vnd.jupyter.widget-view+json": {
              "model_id": "ed3993a8cc2944ccbbd8b49014bc8c04",
              "version_major": 2,
              "version_minor": 0
            },
            "text/plain": [
              "Batches:   0%|          | 0/469 [00:00<?, ?it/s]"
            ]
          },
          "metadata": {},
          "output_type": "display_data"
        },
        {
          "name": "stdout",
          "output_type": "stream",
          "text": [
            "----\n",
            "Epoch [61/100], Average Loss: 0.0715\n",
            "\n"
          ]
        },
        {
          "data": {
            "application/vnd.jupyter.widget-view+json": {
              "model_id": "d5894d77360f43dd8515483f83add041",
              "version_major": 2,
              "version_minor": 0
            },
            "text/plain": [
              "Batches:   0%|          | 0/469 [00:00<?, ?it/s]"
            ]
          },
          "metadata": {},
          "output_type": "display_data"
        },
        {
          "name": "stdout",
          "output_type": "stream",
          "text": [
            "----\n",
            "Epoch [62/100], Average Loss: 0.0715\n",
            "\n"
          ]
        },
        {
          "data": {
            "application/vnd.jupyter.widget-view+json": {
              "model_id": "95b69e3853ed4b959ae0181a6f66976f",
              "version_major": 2,
              "version_minor": 0
            },
            "text/plain": [
              "Batches:   0%|          | 0/469 [00:00<?, ?it/s]"
            ]
          },
          "metadata": {},
          "output_type": "display_data"
        },
        {
          "name": "stdout",
          "output_type": "stream",
          "text": [
            "----\n",
            "Epoch [63/100], Average Loss: 0.0715\n",
            "\n"
          ]
        },
        {
          "data": {
            "application/vnd.jupyter.widget-view+json": {
              "model_id": "575d607ca2c940748dd181b2d95f7f3f",
              "version_major": 2,
              "version_minor": 0
            },
            "text/plain": [
              "Batches:   0%|          | 0/469 [00:00<?, ?it/s]"
            ]
          },
          "metadata": {},
          "output_type": "display_data"
        },
        {
          "name": "stdout",
          "output_type": "stream",
          "text": [
            "----\n",
            "Epoch [64/100], Average Loss: 0.0714\n",
            "\n"
          ]
        },
        {
          "data": {
            "application/vnd.jupyter.widget-view+json": {
              "model_id": "204bd97059d648949af1949e17f3b825",
              "version_major": 2,
              "version_minor": 0
            },
            "text/plain": [
              "Batches:   0%|          | 0/469 [00:00<?, ?it/s]"
            ]
          },
          "metadata": {},
          "output_type": "display_data"
        },
        {
          "name": "stdout",
          "output_type": "stream",
          "text": [
            "----\n",
            "Epoch [65/100], Average Loss: 0.0714\n",
            "\n"
          ]
        },
        {
          "data": {
            "application/vnd.jupyter.widget-view+json": {
              "model_id": "905dd8c6a30145fa92aff1cac249e433",
              "version_major": 2,
              "version_minor": 0
            },
            "text/plain": [
              "Batches:   0%|          | 0/469 [00:00<?, ?it/s]"
            ]
          },
          "metadata": {},
          "output_type": "display_data"
        },
        {
          "name": "stdout",
          "output_type": "stream",
          "text": [
            "----\n",
            "Epoch [66/100], Average Loss: 0.0714\n",
            "\n"
          ]
        },
        {
          "data": {
            "application/vnd.jupyter.widget-view+json": {
              "model_id": "d039cc203eae41d691a84c454cec6cf6",
              "version_major": 2,
              "version_minor": 0
            },
            "text/plain": [
              "Batches:   0%|          | 0/469 [00:00<?, ?it/s]"
            ]
          },
          "metadata": {},
          "output_type": "display_data"
        },
        {
          "name": "stdout",
          "output_type": "stream",
          "text": [
            "----\n",
            "Epoch [67/100], Average Loss: 0.0714\n",
            "\n"
          ]
        },
        {
          "data": {
            "application/vnd.jupyter.widget-view+json": {
              "model_id": "3e5e1c39a73c4e3e82ce3d3a548c8693",
              "version_major": 2,
              "version_minor": 0
            },
            "text/plain": [
              "Batches:   0%|          | 0/469 [00:00<?, ?it/s]"
            ]
          },
          "metadata": {},
          "output_type": "display_data"
        },
        {
          "name": "stdout",
          "output_type": "stream",
          "text": [
            "----\n",
            "Epoch [68/100], Average Loss: 0.0714\n",
            "\n"
          ]
        },
        {
          "data": {
            "application/vnd.jupyter.widget-view+json": {
              "model_id": "00f999405aa64448abb16d11fdf3cd8d",
              "version_major": 2,
              "version_minor": 0
            },
            "text/plain": [
              "Batches:   0%|          | 0/469 [00:00<?, ?it/s]"
            ]
          },
          "metadata": {},
          "output_type": "display_data"
        },
        {
          "name": "stdout",
          "output_type": "stream",
          "text": [
            "----\n",
            "Epoch [69/100], Average Loss: 0.0713\n",
            "\n"
          ]
        },
        {
          "data": {
            "application/vnd.jupyter.widget-view+json": {
              "model_id": "392d2aa6613849bbb8baafc588e207c6",
              "version_major": 2,
              "version_minor": 0
            },
            "text/plain": [
              "Batches:   0%|          | 0/469 [00:00<?, ?it/s]"
            ]
          },
          "metadata": {},
          "output_type": "display_data"
        },
        {
          "name": "stdout",
          "output_type": "stream",
          "text": [
            "----\n",
            "Epoch [70/100], Average Loss: 0.0713\n",
            "\n"
          ]
        },
        {
          "data": {
            "application/vnd.jupyter.widget-view+json": {
              "model_id": "c142b1c7930d400bad9b3e1fee5b9eab",
              "version_major": 2,
              "version_minor": 0
            },
            "text/plain": [
              "Batches:   0%|          | 0/469 [00:00<?, ?it/s]"
            ]
          },
          "metadata": {},
          "output_type": "display_data"
        },
        {
          "name": "stdout",
          "output_type": "stream",
          "text": [
            "----\n",
            "Epoch [71/100], Average Loss: 0.0713\n",
            "\n"
          ]
        },
        {
          "data": {
            "application/vnd.jupyter.widget-view+json": {
              "model_id": "b06d0c5a79c44108b5113938ff9a3917",
              "version_major": 2,
              "version_minor": 0
            },
            "text/plain": [
              "Batches:   0%|          | 0/469 [00:00<?, ?it/s]"
            ]
          },
          "metadata": {},
          "output_type": "display_data"
        },
        {
          "name": "stdout",
          "output_type": "stream",
          "text": [
            "----\n",
            "Epoch [72/100], Average Loss: 0.0713\n",
            "\n"
          ]
        },
        {
          "data": {
            "application/vnd.jupyter.widget-view+json": {
              "model_id": "711ee59a32f24aeb986975e7d591b12e",
              "version_major": 2,
              "version_minor": 0
            },
            "text/plain": [
              "Batches:   0%|          | 0/469 [00:00<?, ?it/s]"
            ]
          },
          "metadata": {},
          "output_type": "display_data"
        },
        {
          "name": "stdout",
          "output_type": "stream",
          "text": [
            "----\n",
            "Epoch [73/100], Average Loss: 0.0713\n",
            "\n"
          ]
        },
        {
          "data": {
            "application/vnd.jupyter.widget-view+json": {
              "model_id": "c75d434ecf584d12963bdeb3fb466267",
              "version_major": 2,
              "version_minor": 0
            },
            "text/plain": [
              "Batches:   0%|          | 0/469 [00:00<?, ?it/s]"
            ]
          },
          "metadata": {},
          "output_type": "display_data"
        },
        {
          "name": "stdout",
          "output_type": "stream",
          "text": [
            "----\n",
            "Epoch [74/100], Average Loss: 0.0712\n",
            "\n"
          ]
        },
        {
          "data": {
            "application/vnd.jupyter.widget-view+json": {
              "model_id": "b6bba566a0c549b2a7b6f5122d33d50a",
              "version_major": 2,
              "version_minor": 0
            },
            "text/plain": [
              "Batches:   0%|          | 0/469 [00:00<?, ?it/s]"
            ]
          },
          "metadata": {},
          "output_type": "display_data"
        },
        {
          "name": "stdout",
          "output_type": "stream",
          "text": [
            "----\n",
            "Epoch [75/100], Average Loss: 0.0712\n",
            "\n"
          ]
        },
        {
          "data": {
            "application/vnd.jupyter.widget-view+json": {
              "model_id": "0db736237e6249ac83068675ec3cd044",
              "version_major": 2,
              "version_minor": 0
            },
            "text/plain": [
              "Batches:   0%|          | 0/469 [00:00<?, ?it/s]"
            ]
          },
          "metadata": {},
          "output_type": "display_data"
        },
        {
          "name": "stdout",
          "output_type": "stream",
          "text": [
            "----\n",
            "Epoch [76/100], Average Loss: 0.0712\n",
            "\n"
          ]
        },
        {
          "data": {
            "application/vnd.jupyter.widget-view+json": {
              "model_id": "f11f8c9189254eef8dd9bbaddbf48ec1",
              "version_major": 2,
              "version_minor": 0
            },
            "text/plain": [
              "Batches:   0%|          | 0/469 [00:00<?, ?it/s]"
            ]
          },
          "metadata": {},
          "output_type": "display_data"
        },
        {
          "name": "stdout",
          "output_type": "stream",
          "text": [
            "----\n",
            "Epoch [77/100], Average Loss: 0.0712\n",
            "\n"
          ]
        },
        {
          "data": {
            "application/vnd.jupyter.widget-view+json": {
              "model_id": "c03db3f6347e40cb8ce54e11a773fa91",
              "version_major": 2,
              "version_minor": 0
            },
            "text/plain": [
              "Batches:   0%|          | 0/469 [00:00<?, ?it/s]"
            ]
          },
          "metadata": {},
          "output_type": "display_data"
        },
        {
          "name": "stdout",
          "output_type": "stream",
          "text": [
            "----\n",
            "Epoch [78/100], Average Loss: 0.0712\n",
            "\n"
          ]
        },
        {
          "data": {
            "application/vnd.jupyter.widget-view+json": {
              "model_id": "e7050f31ff5544c1ab242ba133812505",
              "version_major": 2,
              "version_minor": 0
            },
            "text/plain": [
              "Batches:   0%|          | 0/469 [00:00<?, ?it/s]"
            ]
          },
          "metadata": {},
          "output_type": "display_data"
        },
        {
          "name": "stdout",
          "output_type": "stream",
          "text": [
            "----\n",
            "Epoch [79/100], Average Loss: 0.0712\n",
            "\n"
          ]
        },
        {
          "data": {
            "application/vnd.jupyter.widget-view+json": {
              "model_id": "4cf64e5f6d014a7bbb811dcae6bb336d",
              "version_major": 2,
              "version_minor": 0
            },
            "text/plain": [
              "Batches:   0%|          | 0/469 [00:00<?, ?it/s]"
            ]
          },
          "metadata": {},
          "output_type": "display_data"
        },
        {
          "name": "stdout",
          "output_type": "stream",
          "text": [
            "----\n",
            "Epoch [80/100], Average Loss: 0.0712\n",
            "\n"
          ]
        },
        {
          "data": {
            "application/vnd.jupyter.widget-view+json": {
              "model_id": "b163d6619c2f4420921af8115ebedc98",
              "version_major": 2,
              "version_minor": 0
            },
            "text/plain": [
              "Batches:   0%|          | 0/469 [00:00<?, ?it/s]"
            ]
          },
          "metadata": {},
          "output_type": "display_data"
        },
        {
          "name": "stdout",
          "output_type": "stream",
          "text": [
            "----\n",
            "Epoch [81/100], Average Loss: 0.0711\n",
            "\n"
          ]
        },
        {
          "data": {
            "application/vnd.jupyter.widget-view+json": {
              "model_id": "3524dc24c0e64d0d8ebe56dadef45ea8",
              "version_major": 2,
              "version_minor": 0
            },
            "text/plain": [
              "Batches:   0%|          | 0/469 [00:00<?, ?it/s]"
            ]
          },
          "metadata": {},
          "output_type": "display_data"
        },
        {
          "name": "stdout",
          "output_type": "stream",
          "text": [
            "----\n",
            "Epoch [82/100], Average Loss: 0.0711\n",
            "\n"
          ]
        },
        {
          "data": {
            "application/vnd.jupyter.widget-view+json": {
              "model_id": "e408e8ad172245488543c6227fb141e6",
              "version_major": 2,
              "version_minor": 0
            },
            "text/plain": [
              "Batches:   0%|          | 0/469 [00:00<?, ?it/s]"
            ]
          },
          "metadata": {},
          "output_type": "display_data"
        },
        {
          "name": "stdout",
          "output_type": "stream",
          "text": [
            "----\n",
            "Epoch [83/100], Average Loss: 0.0711\n",
            "\n"
          ]
        },
        {
          "data": {
            "application/vnd.jupyter.widget-view+json": {
              "model_id": "9bbb778100494b5db30c478ae01b50c3",
              "version_major": 2,
              "version_minor": 0
            },
            "text/plain": [
              "Batches:   0%|          | 0/469 [00:00<?, ?it/s]"
            ]
          },
          "metadata": {},
          "output_type": "display_data"
        },
        {
          "name": "stdout",
          "output_type": "stream",
          "text": [
            "----\n",
            "Epoch [84/100], Average Loss: 0.0711\n",
            "\n"
          ]
        },
        {
          "data": {
            "application/vnd.jupyter.widget-view+json": {
              "model_id": "7c22764f445f442e9139ef79f8ff19be",
              "version_major": 2,
              "version_minor": 0
            },
            "text/plain": [
              "Batches:   0%|          | 0/469 [00:00<?, ?it/s]"
            ]
          },
          "metadata": {},
          "output_type": "display_data"
        },
        {
          "name": "stdout",
          "output_type": "stream",
          "text": [
            "----\n",
            "Epoch [85/100], Average Loss: 0.0710\n",
            "\n"
          ]
        },
        {
          "data": {
            "application/vnd.jupyter.widget-view+json": {
              "model_id": "8c7e6f02552749bcae4e11fe67d405be",
              "version_major": 2,
              "version_minor": 0
            },
            "text/plain": [
              "Batches:   0%|          | 0/469 [00:00<?, ?it/s]"
            ]
          },
          "metadata": {},
          "output_type": "display_data"
        },
        {
          "name": "stdout",
          "output_type": "stream",
          "text": [
            "----\n",
            "Epoch [86/100], Average Loss: 0.0711\n",
            "\n"
          ]
        },
        {
          "data": {
            "application/vnd.jupyter.widget-view+json": {
              "model_id": "516af0c207974f69b86e81f8c34f4b3c",
              "version_major": 2,
              "version_minor": 0
            },
            "text/plain": [
              "Batches:   0%|          | 0/469 [00:00<?, ?it/s]"
            ]
          },
          "metadata": {},
          "output_type": "display_data"
        },
        {
          "name": "stdout",
          "output_type": "stream",
          "text": [
            "----\n",
            "Epoch [87/100], Average Loss: 0.0710\n",
            "\n"
          ]
        },
        {
          "data": {
            "application/vnd.jupyter.widget-view+json": {
              "model_id": "becb8b675f5f4549a025753e4e44568b",
              "version_major": 2,
              "version_minor": 0
            },
            "text/plain": [
              "Batches:   0%|          | 0/469 [00:00<?, ?it/s]"
            ]
          },
          "metadata": {},
          "output_type": "display_data"
        },
        {
          "name": "stdout",
          "output_type": "stream",
          "text": [
            "----\n",
            "Epoch [88/100], Average Loss: 0.0710\n",
            "\n"
          ]
        },
        {
          "data": {
            "application/vnd.jupyter.widget-view+json": {
              "model_id": "96f759ba4db2451bbe31ad4ed903b41b",
              "version_major": 2,
              "version_minor": 0
            },
            "text/plain": [
              "Batches:   0%|          | 0/469 [00:00<?, ?it/s]"
            ]
          },
          "metadata": {},
          "output_type": "display_data"
        },
        {
          "name": "stdout",
          "output_type": "stream",
          "text": [
            "----\n",
            "Epoch [89/100], Average Loss: 0.0710\n",
            "\n"
          ]
        },
        {
          "data": {
            "application/vnd.jupyter.widget-view+json": {
              "model_id": "a92ac35dd77444ff9b71d1c04afb1c5d",
              "version_major": 2,
              "version_minor": 0
            },
            "text/plain": [
              "Batches:   0%|          | 0/469 [00:00<?, ?it/s]"
            ]
          },
          "metadata": {},
          "output_type": "display_data"
        },
        {
          "name": "stdout",
          "output_type": "stream",
          "text": [
            "----\n",
            "Epoch [90/100], Average Loss: 0.0710\n",
            "\n"
          ]
        },
        {
          "data": {
            "application/vnd.jupyter.widget-view+json": {
              "model_id": "44fb2f2c1e524be088dbc92b246b816a",
              "version_major": 2,
              "version_minor": 0
            },
            "text/plain": [
              "Batches:   0%|          | 0/469 [00:00<?, ?it/s]"
            ]
          },
          "metadata": {},
          "output_type": "display_data"
        },
        {
          "name": "stdout",
          "output_type": "stream",
          "text": [
            "----\n",
            "Epoch [91/100], Average Loss: 0.0710\n",
            "\n"
          ]
        },
        {
          "data": {
            "application/vnd.jupyter.widget-view+json": {
              "model_id": "2f8664c707a146ec913b5f07dc7a44a0",
              "version_major": 2,
              "version_minor": 0
            },
            "text/plain": [
              "Batches:   0%|          | 0/469 [00:00<?, ?it/s]"
            ]
          },
          "metadata": {},
          "output_type": "display_data"
        },
        {
          "name": "stdout",
          "output_type": "stream",
          "text": [
            "----\n",
            "Epoch [92/100], Average Loss: 0.0710\n",
            "\n"
          ]
        },
        {
          "data": {
            "application/vnd.jupyter.widget-view+json": {
              "model_id": "db5eddc39a9b4b7cbf00a7c8c36d4ca4",
              "version_major": 2,
              "version_minor": 0
            },
            "text/plain": [
              "Batches:   0%|          | 0/469 [00:00<?, ?it/s]"
            ]
          },
          "metadata": {},
          "output_type": "display_data"
        },
        {
          "name": "stdout",
          "output_type": "stream",
          "text": [
            "----\n",
            "Epoch [93/100], Average Loss: 0.0710\n",
            "\n"
          ]
        },
        {
          "data": {
            "application/vnd.jupyter.widget-view+json": {
              "model_id": "0306c09906474ca3a9112949172a4204",
              "version_major": 2,
              "version_minor": 0
            },
            "text/plain": [
              "Batches:   0%|          | 0/469 [00:00<?, ?it/s]"
            ]
          },
          "metadata": {},
          "output_type": "display_data"
        },
        {
          "name": "stdout",
          "output_type": "stream",
          "text": [
            "----\n",
            "Epoch [94/100], Average Loss: 0.0710\n",
            "\n"
          ]
        },
        {
          "data": {
            "application/vnd.jupyter.widget-view+json": {
              "model_id": "0f13b651f5cd4c0b9400213efc25668a",
              "version_major": 2,
              "version_minor": 0
            },
            "text/plain": [
              "Batches:   0%|          | 0/469 [00:00<?, ?it/s]"
            ]
          },
          "metadata": {},
          "output_type": "display_data"
        },
        {
          "name": "stdout",
          "output_type": "stream",
          "text": [
            "----\n",
            "Epoch [95/100], Average Loss: 0.0709\n",
            "\n"
          ]
        },
        {
          "data": {
            "application/vnd.jupyter.widget-view+json": {
              "model_id": "47071938ef6e4c73b5e114bb4a5a2612",
              "version_major": 2,
              "version_minor": 0
            },
            "text/plain": [
              "Batches:   0%|          | 0/469 [00:00<?, ?it/s]"
            ]
          },
          "metadata": {},
          "output_type": "display_data"
        },
        {
          "name": "stdout",
          "output_type": "stream",
          "text": [
            "----\n",
            "Epoch [96/100], Average Loss: 0.0709\n",
            "\n"
          ]
        },
        {
          "data": {
            "application/vnd.jupyter.widget-view+json": {
              "model_id": "f55c8cc736724b99bcb3e3fcf599c665",
              "version_major": 2,
              "version_minor": 0
            },
            "text/plain": [
              "Batches:   0%|          | 0/469 [00:00<?, ?it/s]"
            ]
          },
          "metadata": {},
          "output_type": "display_data"
        },
        {
          "name": "stdout",
          "output_type": "stream",
          "text": [
            "----\n",
            "Epoch [97/100], Average Loss: 0.0709\n",
            "\n"
          ]
        },
        {
          "data": {
            "application/vnd.jupyter.widget-view+json": {
              "model_id": "4fd83f1a6d904d4ba1cd6b6c2bd1d27d",
              "version_major": 2,
              "version_minor": 0
            },
            "text/plain": [
              "Batches:   0%|          | 0/469 [00:00<?, ?it/s]"
            ]
          },
          "metadata": {},
          "output_type": "display_data"
        },
        {
          "name": "stdout",
          "output_type": "stream",
          "text": [
            "----\n",
            "Epoch [98/100], Average Loss: 0.0709\n",
            "\n"
          ]
        },
        {
          "data": {
            "application/vnd.jupyter.widget-view+json": {
              "model_id": "912b2a62199a47b9a1f4ff9ecb6e42f3",
              "version_major": 2,
              "version_minor": 0
            },
            "text/plain": [
              "Batches:   0%|          | 0/469 [00:00<?, ?it/s]"
            ]
          },
          "metadata": {},
          "output_type": "display_data"
        },
        {
          "name": "stdout",
          "output_type": "stream",
          "text": [
            "----\n",
            "Epoch [99/100], Average Loss: 0.0709\n",
            "\n"
          ]
        },
        {
          "data": {
            "application/vnd.jupyter.widget-view+json": {
              "model_id": "f782a2c9562344e4a0f4f4db937d9130",
              "version_major": 2,
              "version_minor": 0
            },
            "text/plain": [
              "Batches:   0%|          | 0/469 [00:00<?, ?it/s]"
            ]
          },
          "metadata": {},
          "output_type": "display_data"
        },
        {
          "name": "stdout",
          "output_type": "stream",
          "text": [
            "----\n",
            "Epoch [100/100], Average Loss: 0.0709\n",
            "\n"
          ]
        }
      ],
      "source": [
        "##################\n",
        "epochs = 100\n",
        "### Problem 3(c): Training\n",
        "n_classes = 10\n",
        "model = ConditionalPixelCNN(1, 64, 1).to(device)\n",
        "optimizer = torch.optim.Adam(model.parameters(), lr=0.001)\n",
        "\n",
        "log = train_cond(train_loader, model, optimizer, epochs, n_classes)\n",
        "##################\n"
      ]
    },
    {
      "cell_type": "markdown",
      "metadata": {
        "id": "epotdWhTpo62"
      },
      "source": [
        "# e. Evaluation (Reconstruction)"
      ]
    },
    {
      "cell_type": "code",
      "execution_count": 26,
      "metadata": {
        "id": "KLW9jRCyfiOd"
      },
      "outputs": [
        {
          "data": {
            "image/png": "[encoded data removed]",
            "text/plain": [
              "<Figure size 1500x1500 with 64 Axes>"
            ]
          },
          "metadata": {},
          "output_type": "display_data"
        }
      ],
      "source": [
        "H, W = 28, 28\n",
        "\n",
        "with torch.no_grad():\n",
        "  for iter, (images, labels) in enumerate(test_loader):\n",
        "      images = images.to(device)\n",
        "      labels = labels.to(device)\n",
        "      labels = F.one_hot(labels, num_classes=n_classes).float()\n",
        "      pred = model(images, labels)\n",
        "\n",
        "      for i in range(H):\n",
        "          for j in range(W):\n",
        "              pred[:, :, i, j] = torch.bernoulli(pred[:, :, i, j], out=pred[:, :, i, j])\n",
        "      break\n",
        "\n",
        "samples = pred.detach().cpu().numpy().transpose(0, 2, 3, 1)\n",
        "fig, axes = plt.subplots(8, 8, figsize=(15, 15))\n",
        "\n",
        "for i in range(64):\n",
        "    sample = samples[i]\n",
        "    row, col = divmod(i, 8)\n",
        "    axes[row, col].imshow(sample, cmap='gray')\n",
        "    axes[row, col].axis('off')\n",
        "\n",
        "plt.tight_layout()\n",
        "plt.show()"
      ]
    },
    {
      "cell_type": "markdown",
      "metadata": {
        "id": "hvOHwS6yptWn"
      },
      "source": [
        "# f. Evaluation (Generation)"
      ]
    },
    {
      "cell_type": "code",
      "execution_count": 27,
      "metadata": {
        "id": "YIGipU7ofRJF"
      },
      "outputs": [
        {
          "data": {
            "image/png": "[encoded data removed]",
            "text/plain": [
              "<Figure size 1500x3000 with 60 Axes>"
            ]
          },
          "metadata": {},
          "output_type": "display_data"
        }
      ],
      "source": [
        "samples = torch.zeros(size=(60, 1, H, W)).to(device)\n",
        "sample_classes = np.sort(np.array([np.arange(n_classes)] * 6).flatten())\n",
        "sample_classes = F.one_hot(torch.tensor(sample_classes), num_classes=n_classes).to(device).float()\n",
        "\n",
        "with torch.no_grad():\n",
        "    for i in range(H):\n",
        "        for j in range(W):\n",
        "            if j > 0 and i > 0:\n",
        "                out = model(samples, sample_classes)\n",
        "                samples[:, :, i, j] = torch.bernoulli(out[:, :, i, j], out=samples[:, :, i, j])\n",
        "\n",
        "samples = samples.cpu().numpy().transpose(0, 2, 3, 1)\n",
        "fig, axes = plt.subplots(10, 6, figsize=(15, 30))\n",
        "\n",
        "for i in range(60):\n",
        "    sample = samples[i]\n",
        "    row, col = divmod(i, 6)\n",
        "    axes[row, col].imshow(sample, cmap='gray')\n",
        "    axes[row, col].axis('off')\n",
        "\n",
        "plt.tight_layout()\n",
        "plt.show()"
      ]
    }
  ],
  "metadata": {
    "accelerator": "GPU",
    "colab": {
      "gpuType": "T4",
      "provenance": []
    },
    "kernelspec": {
      "display_name": "Python 3",
      "name": "python3"
    },
    "language_info": {
      "codemirror_mode": {
        "name": "ipython",
        "version": 3
      },
      "file_extension": ".py",
      "mimetype": "text/x-python",
      "name": "python",
      "nbconvert_exporter": "python",
      "pygments_lexer": "ipython3",
      "version": "3.8.20"
    },
    "widgets": {
      "application/vnd.jupyter.widget-state+json": {
        "029c151a863d4e9bba986efec2aa32af": {
          "model_module": "@jupyter-widgets/controls",
          "model_module_version": "1.5.0",
          "model_name": "HBoxModel",
          "state": {
            "_dom_classes": [],
            "_model_module": "@jupyter-widgets/controls",
            "_model_module_version": "1.5.0",
            "_model_name": "HBoxModel",
            "_view_count": null,
            "_view_module": "@jupyter-widgets/controls",
            "_view_module_version": "1.5.0",
            "_view_name": "HBoxView",
            "box_style": "",
            "children": [
              "IPY_MODEL_e113a98efe9241059ca8eccaf5c84a32",
              "IPY_MODEL_6335afb9451c46cbb82c2b93bc3f4a38",
              "IPY_MODEL_78582ee0ef89497981b81239e7094b3b"
            ],
            "layout": "IPY_MODEL_da912472a72448e0be4ec28dd0fa144e"
          }
        },
        "045198e37c5d44bf87f2bd777f2cb1a4": {
          "model_module": "@jupyter-widgets/controls",
          "model_module_version": "1.5.0",
          "model_name": "HTMLModel",
          "state": {
            "_dom_classes": [],
            "_model_module": "@jupyter-widgets/controls",
            "_model_module_version": "1.5.0",
            "_model_name": "HTMLModel",
            "_view_count": null,
            "_view_module": "@jupyter-widgets/controls",
            "_view_module_version": "1.5.0",
            "_view_name": "HTMLView",
            "description": "",
            "description_tooltip": null,
            "layout": "IPY_MODEL_f3d17766ada44f4da79b72b6df857ac3",
            "placeholder": "​",
            "style": "IPY_MODEL_d40f46f0e0bf4b1788d593a2757c9efa",
            "value": "Batches: 100%"
          }
        },
        "090e85410b004066b9a96f87c7cefc9e": {
          "model_module": "@jupyter-widgets/base",
          "model_module_version": "1.2.0",
          "model_name": "LayoutModel",
          "state": {
            "_model_module": "@jupyter-widgets/base",
            "_model_module_version": "1.2.0",
            "_model_name": "LayoutModel",
            "_view_count": null,
            "_view_module": "@jupyter-widgets/base",
            "_view_module_version": "1.2.0",
            "_view_name": "LayoutView",
            "align_content": null,
            "align_items": null,
            "align_self": null,
            "border": null,
            "bottom": null,
            "display": null,
            "flex": null,
            "flex_flow": null,
            "grid_area": null,
            "grid_auto_columns": null,
            "grid_auto_flow": null,
            "grid_auto_rows": null,
            "grid_column": null,
            "grid_gap": null,
            "grid_row": null,
            "grid_template_areas": null,
            "grid_template_columns": null,
            "grid_template_rows": null,
            "height": null,
            "justify_content": null,
            "justify_items": null,
            "left": null,
            "margin": null,
            "max_height": null,
            "max_width": null,
            "min_height": null,
            "min_width": null,
            "object_fit": null,
            "object_position": null,
            "order": null,
            "overflow": null,
            "overflow_x": null,
            "overflow_y": null,
            "padding": null,
            "right": null,
            "top": null,
            "visibility": null,
            "width": null
          }
        },
        "0a69896713a645f08774bbe71d54009c": {
          "model_module": "@jupyter-widgets/controls",
          "model_module_version": "1.5.0",
          "model_name": "ProgressStyleModel",
          "state": {
            "_model_module": "@jupyter-widgets/controls",
            "_model_module_version": "1.5.0",
            "_model_name": "ProgressStyleModel",
            "_view_count": null,
            "_view_module": "@jupyter-widgets/base",
            "_view_module_version": "1.2.0",
            "_view_name": "StyleView",
            "bar_color": null,
            "description_width": ""
          }
        },
        "0deda2341b0649ddbd833bfdc4b7c1f1": {
          "model_module": "@jupyter-widgets/controls",
          "model_module_version": "1.5.0",
          "model_name": "HTMLModel",
          "state": {
            "_dom_classes": [],
            "_model_module": "@jupyter-widgets/controls",
            "_model_module_version": "1.5.0",
            "_model_name": "HTMLModel",
            "_view_count": null,
            "_view_module": "@jupyter-widgets/controls",
            "_view_module_version": "1.5.0",
            "_view_name": "HTMLView",
            "description": "",
            "description_tooltip": null,
            "layout": "IPY_MODEL_1ba314e3ac1746d0bbe7ec47bcb724d4",
            "placeholder": "​",
            "style": "IPY_MODEL_d4a1026582dc42a3b902a7c6d2ae62ea",
            "value": " 469/469 [02:07&lt;00:00,  3.98it/s]"
          }
        },
        "1132052525364c19b476d32e45a12e84": {
          "model_module": "@jupyter-widgets/controls",
          "model_module_version": "1.5.0",
          "model_name": "DescriptionStyleModel",
          "state": {
            "_model_module": "@jupyter-widgets/controls",
            "_model_module_version": "1.5.0",
            "_model_name": "DescriptionStyleModel",
            "_view_count": null,
            "_view_module": "@jupyter-widgets/base",
            "_view_module_version": "1.2.0",
            "_view_name": "StyleView",
            "description_width": ""
          }
        },
        "1468f89b3a2c4bda9b73b580f90e8464": {
          "model_module": "@jupyter-widgets/base",
          "model_module_version": "1.2.0",
          "model_name": "LayoutModel",
          "state": {
            "_model_module": "@jupyter-widgets/base",
            "_model_module_version": "1.2.0",
            "_model_name": "LayoutModel",
            "_view_count": null,
            "_view_module": "@jupyter-widgets/base",
            "_view_module_version": "1.2.0",
            "_view_name": "LayoutView",
            "align_content": null,
            "align_items": null,
            "align_self": null,
            "border": null,
            "bottom": null,
            "display": null,
            "flex": null,
            "flex_flow": null,
            "grid_area": null,
            "grid_auto_columns": null,
            "grid_auto_flow": null,
            "grid_auto_rows": null,
            "grid_column": null,
            "grid_gap": null,
            "grid_row": null,
            "grid_template_areas": null,
            "grid_template_columns": null,
            "grid_template_rows": null,
            "height": null,
            "justify_content": null,
            "justify_items": null,
            "left": null,
            "margin": null,
            "max_height": null,
            "max_width": null,
            "min_height": null,
            "min_width": null,
            "object_fit": null,
            "object_position": null,
            "order": null,
            "overflow": null,
            "overflow_x": null,
            "overflow_y": null,
            "padding": null,
            "right": null,
            "top": null,
            "visibility": null,
            "width": null
          }
        },
        "1ba314e3ac1746d0bbe7ec47bcb724d4": {
          "model_module": "@jupyter-widgets/base",
          "model_module_version": "1.2.0",
          "model_name": "LayoutModel",
          "state": {
            "_model_module": "@jupyter-widgets/base",
            "_model_module_version": "1.2.0",
            "_model_name": "LayoutModel",
            "_view_count": null,
            "_view_module": "@jupyter-widgets/base",
            "_view_module_version": "1.2.0",
            "_view_name": "LayoutView",
            "align_content": null,
            "align_items": null,
            "align_self": null,
            "border": null,
            "bottom": null,
            "display": null,
            "flex": null,
            "flex_flow": null,
            "grid_area": null,
            "grid_auto_columns": null,
            "grid_auto_flow": null,
            "grid_auto_rows": null,
            "grid_column": null,
            "grid_gap": null,
            "grid_row": null,
            "grid_template_areas": null,
            "grid_template_columns": null,
            "grid_template_rows": null,
            "height": null,
            "justify_content": null,
            "justify_items": null,
            "left": null,
            "margin": null,
            "max_height": null,
            "max_width": null,
            "min_height": null,
            "min_width": null,
            "object_fit": null,
            "object_position": null,
            "order": null,
            "overflow": null,
            "overflow_x": null,
            "overflow_y": null,
            "padding": null,
            "right": null,
            "top": null,
            "visibility": null,
            "width": null
          }
        },
        "1ef099cb32424aebb1939e7ddcbaae94": {
          "model_module": "@jupyter-widgets/controls",
          "model_module_version": "1.5.0",
          "model_name": "ProgressStyleModel",
          "state": {
            "_model_module": "@jupyter-widgets/controls",
            "_model_module_version": "1.5.0",
            "_model_name": "ProgressStyleModel",
            "_view_count": null,
            "_view_module": "@jupyter-widgets/base",
            "_view_module_version": "1.2.0",
            "_view_name": "StyleView",
            "bar_color": null,
            "description_width": ""
          }
        },
        "20203d21e33c46dcb9cb87a0a0150d45": {
          "model_module": "@jupyter-widgets/base",
          "model_module_version": "1.2.0",
          "model_name": "LayoutModel",
          "state": {
            "_model_module": "@jupyter-widgets/base",
            "_model_module_version": "1.2.0",
            "_model_name": "LayoutModel",
            "_view_count": null,
            "_view_module": "@jupyter-widgets/base",
            "_view_module_version": "1.2.0",
            "_view_name": "LayoutView",
            "align_content": null,
            "align_items": null,
            "align_self": null,
            "border": null,
            "bottom": null,
            "display": null,
            "flex": null,
            "flex_flow": null,
            "grid_area": null,
            "grid_auto_columns": null,
            "grid_auto_flow": null,
            "grid_auto_rows": null,
            "grid_column": null,
            "grid_gap": null,
            "grid_row": null,
            "grid_template_areas": null,
            "grid_template_columns": null,
            "grid_template_rows": null,
            "height": null,
            "justify_content": null,
            "justify_items": null,
            "left": null,
            "margin": null,
            "max_height": null,
            "max_width": null,
            "min_height": null,
            "min_width": null,
            "object_fit": null,
            "object_position": null,
            "order": null,
            "overflow": null,
            "overflow_x": null,
            "overflow_y": null,
            "padding": null,
            "right": null,
            "top": null,
            "visibility": null,
            "width": null
          }
        },
        "231bee1913514cb6ad0453c4ebbf9c35": {
          "model_module": "@jupyter-widgets/controls",
          "model_module_version": "1.5.0",
          "model_name": "HBoxModel",
          "state": {
            "_dom_classes": [],
            "_model_module": "@jupyter-widgets/controls",
            "_model_module_version": "1.5.0",
            "_model_name": "HBoxModel",
            "_view_count": null,
            "_view_module": "@jupyter-widgets/controls",
            "_view_module_version": "1.5.0",
            "_view_name": "HBoxView",
            "box_style": "",
            "children": [
              "IPY_MODEL_045198e37c5d44bf87f2bd777f2cb1a4",
              "IPY_MODEL_98b9f34b628545e585ef0fd331862d59",
              "IPY_MODEL_0deda2341b0649ddbd833bfdc4b7c1f1"
            ],
            "layout": "IPY_MODEL_9888e7e7b87d4a5bb63900e88ea25542"
          }
        },
        "2623f4f63bf5420f9261be2dfc6b8842": {
          "model_module": "@jupyter-widgets/base",
          "model_module_version": "1.2.0",
          "model_name": "LayoutModel",
          "state": {
            "_model_module": "@jupyter-widgets/base",
            "_model_module_version": "1.2.0",
            "_model_name": "LayoutModel",
            "_view_count": null,
            "_view_module": "@jupyter-widgets/base",
            "_view_module_version": "1.2.0",
            "_view_name": "LayoutView",
            "align_content": null,
            "align_items": null,
            "align_self": null,
            "border": null,
            "bottom": null,
            "display": null,
            "flex": null,
            "flex_flow": null,
            "grid_area": null,
            "grid_auto_columns": null,
            "grid_auto_flow": null,
            "grid_auto_rows": null,
            "grid_column": null,
            "grid_gap": null,
            "grid_row": null,
            "grid_template_areas": null,
            "grid_template_columns": null,
            "grid_template_rows": null,
            "height": null,
            "justify_content": null,
            "justify_items": null,
            "left": null,
            "margin": null,
            "max_height": null,
            "max_width": null,
            "min_height": null,
            "min_width": null,
            "object_fit": null,
            "object_position": null,
            "order": null,
            "overflow": null,
            "overflow_x": null,
            "overflow_y": null,
            "padding": null,
            "right": null,
            "top": null,
            "visibility": "hidden",
            "width": null
          }
        },
        "2689c721c28341a78868c274373fc8ab": {
          "model_module": "@jupyter-widgets/base",
          "model_module_version": "1.2.0",
          "model_name": "LayoutModel",
          "state": {
            "_model_module": "@jupyter-widgets/base",
            "_model_module_version": "1.2.0",
            "_model_name": "LayoutModel",
            "_view_count": null,
            "_view_module": "@jupyter-widgets/base",
            "_view_module_version": "1.2.0",
            "_view_name": "LayoutView",
            "align_content": null,
            "align_items": null,
            "align_self": null,
            "border": null,
            "bottom": null,
            "display": null,
            "flex": null,
            "flex_flow": null,
            "grid_area": null,
            "grid_auto_columns": null,
            "grid_auto_flow": null,
            "grid_auto_rows": null,
            "grid_column": null,
            "grid_gap": null,
            "grid_row": null,
            "grid_template_areas": null,
            "grid_template_columns": null,
            "grid_template_rows": null,
            "height": null,
            "justify_content": null,
            "justify_items": null,
            "left": null,
            "margin": null,
            "max_height": null,
            "max_width": null,
            "min_height": null,
            "min_width": null,
            "object_fit": null,
            "object_position": null,
            "order": null,
            "overflow": null,
            "overflow_x": null,
            "overflow_y": null,
            "padding": null,
            "right": null,
            "top": null,
            "visibility": null,
            "width": null
          }
        },
        "2da82954fa504ba7afa562d437803280": {
          "model_module": "@jupyter-widgets/controls",
          "model_module_version": "1.5.0",
          "model_name": "DescriptionStyleModel",
          "state": {
            "_model_module": "@jupyter-widgets/controls",
            "_model_module_version": "1.5.0",
            "_model_name": "DescriptionStyleModel",
            "_view_count": null,
            "_view_module": "@jupyter-widgets/base",
            "_view_module_version": "1.2.0",
            "_view_name": "StyleView",
            "description_width": ""
          }
        },
        "31864b0c0d184c42886e8c93179d4e3f": {
          "model_module": "@jupyter-widgets/base",
          "model_module_version": "1.2.0",
          "model_name": "LayoutModel",
          "state": {
            "_model_module": "@jupyter-widgets/base",
            "_model_module_version": "1.2.0",
            "_model_name": "LayoutModel",
            "_view_count": null,
            "_view_module": "@jupyter-widgets/base",
            "_view_module_version": "1.2.0",
            "_view_name": "LayoutView",
            "align_content": null,
            "align_items": null,
            "align_self": null,
            "border": null,
            "bottom": null,
            "display": null,
            "flex": null,
            "flex_flow": null,
            "grid_area": null,
            "grid_auto_columns": null,
            "grid_auto_flow": null,
            "grid_auto_rows": null,
            "grid_column": null,
            "grid_gap": null,
            "grid_row": null,
            "grid_template_areas": null,
            "grid_template_columns": null,
            "grid_template_rows": null,
            "height": null,
            "justify_content": null,
            "justify_items": null,
            "left": null,
            "margin": null,
            "max_height": null,
            "max_width": null,
            "min_height": null,
            "min_width": null,
            "object_fit": null,
            "object_position": null,
            "order": null,
            "overflow": null,
            "overflow_x": null,
            "overflow_y": null,
            "padding": null,
            "right": null,
            "top": null,
            "visibility": null,
            "width": null
          }
        },
        "33f3720efe19496e980fd824aecd48bb": {
          "model_module": "@jupyter-widgets/controls",
          "model_module_version": "1.5.0",
          "model_name": "HTMLModel",
          "state": {
            "_dom_classes": [],
            "_model_module": "@jupyter-widgets/controls",
            "_model_module_version": "1.5.0",
            "_model_name": "HTMLModel",
            "_view_count": null,
            "_view_module": "@jupyter-widgets/controls",
            "_view_module_version": "1.5.0",
            "_view_name": "HTMLView",
            "description": "",
            "description_tooltip": null,
            "layout": "IPY_MODEL_a3df0c93d50e4af9a81f15d12e1e344c",
            "placeholder": "​",
            "style": "IPY_MODEL_2da82954fa504ba7afa562d437803280",
            "value": "Batches:  34%"
          }
        },
        "36c14ad27c1049108d4b41faa161da47": {
          "model_module": "@jupyter-widgets/controls",
          "model_module_version": "1.5.0",
          "model_name": "DescriptionStyleModel",
          "state": {
            "_model_module": "@jupyter-widgets/controls",
            "_model_module_version": "1.5.0",
            "_model_name": "DescriptionStyleModel",
            "_view_count": null,
            "_view_module": "@jupyter-widgets/base",
            "_view_module_version": "1.2.0",
            "_view_name": "StyleView",
            "description_width": ""
          }
        },
        "38027a3b9e4740e3b84c45ba83e04819": {
          "model_module": "@jupyter-widgets/controls",
          "model_module_version": "1.5.0",
          "model_name": "HTMLModel",
          "state": {
            "_dom_classes": [],
            "_model_module": "@jupyter-widgets/controls",
            "_model_module_version": "1.5.0",
            "_model_name": "HTMLModel",
            "_view_count": null,
            "_view_module": "@jupyter-widgets/controls",
            "_view_module_version": "1.5.0",
            "_view_name": "HTMLView",
            "description": "",
            "description_tooltip": null,
            "layout": "IPY_MODEL_20203d21e33c46dcb9cb87a0a0150d45",
            "placeholder": "​",
            "style": "IPY_MODEL_ce2346c06c3945cb85df747158898cce",
            "value": " 3/100 [06:21&lt;3:25:50, 127.32s/it]"
          }
        },
        "3ac1081cfea449fcad7a2c40aa3475de": {
          "model_module": "@jupyter-widgets/controls",
          "model_module_version": "1.5.0",
          "model_name": "FloatProgressModel",
          "state": {
            "_dom_classes": [],
            "_model_module": "@jupyter-widgets/controls",
            "_model_module_version": "1.5.0",
            "_model_name": "FloatProgressModel",
            "_view_count": null,
            "_view_module": "@jupyter-widgets/controls",
            "_view_module_version": "1.5.0",
            "_view_name": "ProgressView",
            "bar_style": "",
            "description": "",
            "description_tooltip": null,
            "layout": "IPY_MODEL_fa0614bc95ee4ffba8afe60951b6914c",
            "max": 469,
            "min": 0,
            "orientation": "horizontal",
            "style": "IPY_MODEL_421084b89cc941f9be5669a32d580d03",
            "value": 160
          }
        },
        "3ae96ef8d60544f783483fb6db045d9f": {
          "model_module": "@jupyter-widgets/controls",
          "model_module_version": "1.5.0",
          "model_name": "HTMLModel",
          "state": {
            "_dom_classes": [],
            "_model_module": "@jupyter-widgets/controls",
            "_model_module_version": "1.5.0",
            "_model_name": "HTMLModel",
            "_view_count": null,
            "_view_module": "@jupyter-widgets/controls",
            "_view_module_version": "1.5.0",
            "_view_name": "HTMLView",
            "description": "",
            "description_tooltip": null,
            "layout": "IPY_MODEL_626ebd27471f475098d9caab2ebf410f",
            "placeholder": "​",
            "style": "IPY_MODEL_f8f3ae9b67fd410bb9cfdea6ddf7f069",
            "value": "Batches: 100%"
          }
        },
        "4184bc5a57184cc5a85ff8e84f68362e": {
          "model_module": "@jupyter-widgets/controls",
          "model_module_version": "1.5.0",
          "model_name": "HTMLModel",
          "state": {
            "_dom_classes": [],
            "_model_module": "@jupyter-widgets/controls",
            "_model_module_version": "1.5.0",
            "_model_name": "HTMLModel",
            "_view_count": null,
            "_view_module": "@jupyter-widgets/controls",
            "_view_module_version": "1.5.0",
            "_view_name": "HTMLView",
            "description": "",
            "description_tooltip": null,
            "layout": "IPY_MODEL_93d30591d05f416b8583dfa124cb29b0",
            "placeholder": "​",
            "style": "IPY_MODEL_bf2c6cdaf03d4764bcfc9162aaa756be",
            "value": " 469/469 [02:07&lt;00:00,  3.96it/s]"
          }
        },
        "421084b89cc941f9be5669a32d580d03": {
          "model_module": "@jupyter-widgets/controls",
          "model_module_version": "1.5.0",
          "model_name": "ProgressStyleModel",
          "state": {
            "_model_module": "@jupyter-widgets/controls",
            "_model_module_version": "1.5.0",
            "_model_name": "ProgressStyleModel",
            "_view_count": null,
            "_view_module": "@jupyter-widgets/base",
            "_view_module_version": "1.2.0",
            "_view_name": "StyleView",
            "bar_color": null,
            "description_width": ""
          }
        },
        "4dd18044f6564502a4fcf659f32e8c7d": {
          "model_module": "@jupyter-widgets/base",
          "model_module_version": "1.2.0",
          "model_name": "LayoutModel",
          "state": {
            "_model_module": "@jupyter-widgets/base",
            "_model_module_version": "1.2.0",
            "_model_name": "LayoutModel",
            "_view_count": null,
            "_view_module": "@jupyter-widgets/base",
            "_view_module_version": "1.2.0",
            "_view_name": "LayoutView",
            "align_content": null,
            "align_items": null,
            "align_self": null,
            "border": null,
            "bottom": null,
            "display": null,
            "flex": null,
            "flex_flow": null,
            "grid_area": null,
            "grid_auto_columns": null,
            "grid_auto_flow": null,
            "grid_auto_rows": null,
            "grid_column": null,
            "grid_gap": null,
            "grid_row": null,
            "grid_template_areas": null,
            "grid_template_columns": null,
            "grid_template_rows": null,
            "height": null,
            "justify_content": null,
            "justify_items": null,
            "left": null,
            "margin": null,
            "max_height": null,
            "max_width": null,
            "min_height": null,
            "min_width": null,
            "object_fit": null,
            "object_position": null,
            "order": null,
            "overflow": null,
            "overflow_x": null,
            "overflow_y": null,
            "padding": null,
            "right": null,
            "top": null,
            "visibility": null,
            "width": null
          }
        },
        "5af9f9481e2b4e448b22fe78ff2f22b8": {
          "model_module": "@jupyter-widgets/controls",
          "model_module_version": "1.5.0",
          "model_name": "HBoxModel",
          "state": {
            "_dom_classes": [],
            "_model_module": "@jupyter-widgets/controls",
            "_model_module_version": "1.5.0",
            "_model_name": "HBoxModel",
            "_view_count": null,
            "_view_module": "@jupyter-widgets/controls",
            "_view_module_version": "1.5.0",
            "_view_name": "HBoxView",
            "box_style": "",
            "children": [
              "IPY_MODEL_3ae96ef8d60544f783483fb6db045d9f",
              "IPY_MODEL_db50c541e0e44deebdec872e496bc373",
              "IPY_MODEL_4184bc5a57184cc5a85ff8e84f68362e"
            ],
            "layout": "IPY_MODEL_2623f4f63bf5420f9261be2dfc6b8842"
          }
        },
        "626ebd27471f475098d9caab2ebf410f": {
          "model_module": "@jupyter-widgets/base",
          "model_module_version": "1.2.0",
          "model_name": "LayoutModel",
          "state": {
            "_model_module": "@jupyter-widgets/base",
            "_model_module_version": "1.2.0",
            "_model_name": "LayoutModel",
            "_view_count": null,
            "_view_module": "@jupyter-widgets/base",
            "_view_module_version": "1.2.0",
            "_view_name": "LayoutView",
            "align_content": null,
            "align_items": null,
            "align_self": null,
            "border": null,
            "bottom": null,
            "display": null,
            "flex": null,
            "flex_flow": null,
            "grid_area": null,
            "grid_auto_columns": null,
            "grid_auto_flow": null,
            "grid_auto_rows": null,
            "grid_column": null,
            "grid_gap": null,
            "grid_row": null,
            "grid_template_areas": null,
            "grid_template_columns": null,
            "grid_template_rows": null,
            "height": null,
            "justify_content": null,
            "justify_items": null,
            "left": null,
            "margin": null,
            "max_height": null,
            "max_width": null,
            "min_height": null,
            "min_width": null,
            "object_fit": null,
            "object_position": null,
            "order": null,
            "overflow": null,
            "overflow_x": null,
            "overflow_y": null,
            "padding": null,
            "right": null,
            "top": null,
            "visibility": null,
            "width": null
          }
        },
        "6335afb9451c46cbb82c2b93bc3f4a38": {
          "model_module": "@jupyter-widgets/controls",
          "model_module_version": "1.5.0",
          "model_name": "FloatProgressModel",
          "state": {
            "_dom_classes": [],
            "_model_module": "@jupyter-widgets/controls",
            "_model_module_version": "1.5.0",
            "_model_name": "FloatProgressModel",
            "_view_count": null,
            "_view_module": "@jupyter-widgets/controls",
            "_view_module_version": "1.5.0",
            "_view_name": "ProgressView",
            "bar_style": "",
            "description": "",
            "description_tooltip": null,
            "layout": "IPY_MODEL_b9587bbe203240499f465c20eef21e12",
            "max": 469,
            "min": 0,
            "orientation": "horizontal",
            "style": "IPY_MODEL_1ef099cb32424aebb1939e7ddcbaae94",
            "value": 469
          }
        },
        "67b7bd4e71804b59ad05acd696794f7a": {
          "model_module": "@jupyter-widgets/controls",
          "model_module_version": "1.5.0",
          "model_name": "ProgressStyleModel",
          "state": {
            "_model_module": "@jupyter-widgets/controls",
            "_model_module_version": "1.5.0",
            "_model_name": "ProgressStyleModel",
            "_view_count": null,
            "_view_module": "@jupyter-widgets/base",
            "_view_module_version": "1.2.0",
            "_view_name": "StyleView",
            "bar_color": null,
            "description_width": ""
          }
        },
        "78582ee0ef89497981b81239e7094b3b": {
          "model_module": "@jupyter-widgets/controls",
          "model_module_version": "1.5.0",
          "model_name": "HTMLModel",
          "state": {
            "_dom_classes": [],
            "_model_module": "@jupyter-widgets/controls",
            "_model_module_version": "1.5.0",
            "_model_name": "HTMLModel",
            "_view_count": null,
            "_view_module": "@jupyter-widgets/controls",
            "_view_module_version": "1.5.0",
            "_view_name": "HTMLView",
            "description": "",
            "description_tooltip": null,
            "layout": "IPY_MODEL_b297b1c5da1b4b65aa56aeaea7e51770",
            "placeholder": "​",
            "style": "IPY_MODEL_36c14ad27c1049108d4b41faa161da47",
            "value": " 469/469 [02:05&lt;00:00,  3.98it/s]"
          }
        },
        "7c2cadcb5f914c1daeab73a1ad6813b0": {
          "model_module": "@jupyter-widgets/controls",
          "model_module_version": "1.5.0",
          "model_name": "FloatProgressModel",
          "state": {
            "_dom_classes": [],
            "_model_module": "@jupyter-widgets/controls",
            "_model_module_version": "1.5.0",
            "_model_name": "FloatProgressModel",
            "_view_count": null,
            "_view_module": "@jupyter-widgets/controls",
            "_view_module_version": "1.5.0",
            "_view_name": "ProgressView",
            "bar_style": "",
            "description": "",
            "description_tooltip": null,
            "layout": "IPY_MODEL_80961b89b2504e7687c594e55737154b",
            "max": 100,
            "min": 0,
            "orientation": "horizontal",
            "style": "IPY_MODEL_67b7bd4e71804b59ad05acd696794f7a",
            "value": 3
          }
        },
        "80961b89b2504e7687c594e55737154b": {
          "model_module": "@jupyter-widgets/base",
          "model_module_version": "1.2.0",
          "model_name": "LayoutModel",
          "state": {
            "_model_module": "@jupyter-widgets/base",
            "_model_module_version": "1.2.0",
            "_model_name": "LayoutModel",
            "_view_count": null,
            "_view_module": "@jupyter-widgets/base",
            "_view_module_version": "1.2.0",
            "_view_name": "LayoutView",
            "align_content": null,
            "align_items": null,
            "align_self": null,
            "border": null,
            "bottom": null,
            "display": null,
            "flex": null,
            "flex_flow": null,
            "grid_area": null,
            "grid_auto_columns": null,
            "grid_auto_flow": null,
            "grid_auto_rows": null,
            "grid_column": null,
            "grid_gap": null,
            "grid_row": null,
            "grid_template_areas": null,
            "grid_template_columns": null,
            "grid_template_rows": null,
            "height": null,
            "justify_content": null,
            "justify_items": null,
            "left": null,
            "margin": null,
            "max_height": null,
            "max_width": null,
            "min_height": null,
            "min_width": null,
            "object_fit": null,
            "object_position": null,
            "order": null,
            "overflow": null,
            "overflow_x": null,
            "overflow_y": null,
            "padding": null,
            "right": null,
            "top": null,
            "visibility": null,
            "width": null
          }
        },
        "8bc0f4b7207a4c65a922a3a361aab0a4": {
          "model_module": "@jupyter-widgets/controls",
          "model_module_version": "1.5.0",
          "model_name": "HTMLModel",
          "state": {
            "_dom_classes": [],
            "_model_module": "@jupyter-widgets/controls",
            "_model_module_version": "1.5.0",
            "_model_name": "HTMLModel",
            "_view_count": null,
            "_view_module": "@jupyter-widgets/controls",
            "_view_module_version": "1.5.0",
            "_view_name": "HTMLView",
            "description": "",
            "description_tooltip": null,
            "layout": "IPY_MODEL_2689c721c28341a78868c274373fc8ab",
            "placeholder": "​",
            "style": "IPY_MODEL_1132052525364c19b476d32e45a12e84",
            "value": "Epochs:   3%"
          }
        },
        "9128f1515a394803a7a0fd51bdfc22cd": {
          "model_module": "@jupyter-widgets/base",
          "model_module_version": "1.2.0",
          "model_name": "LayoutModel",
          "state": {
            "_model_module": "@jupyter-widgets/base",
            "_model_module_version": "1.2.0",
            "_model_name": "LayoutModel",
            "_view_count": null,
            "_view_module": "@jupyter-widgets/base",
            "_view_module_version": "1.2.0",
            "_view_name": "LayoutView",
            "align_content": null,
            "align_items": null,
            "align_self": null,
            "border": null,
            "bottom": null,
            "display": null,
            "flex": null,
            "flex_flow": null,
            "grid_area": null,
            "grid_auto_columns": null,
            "grid_auto_flow": null,
            "grid_auto_rows": null,
            "grid_column": null,
            "grid_gap": null,
            "grid_row": null,
            "grid_template_areas": null,
            "grid_template_columns": null,
            "grid_template_rows": null,
            "height": null,
            "justify_content": null,
            "justify_items": null,
            "left": null,
            "margin": null,
            "max_height": null,
            "max_width": null,
            "min_height": null,
            "min_width": null,
            "object_fit": null,
            "object_position": null,
            "order": null,
            "overflow": null,
            "overflow_x": null,
            "overflow_y": null,
            "padding": null,
            "right": null,
            "top": null,
            "visibility": null,
            "width": null
          }
        },
        "93d30591d05f416b8583dfa124cb29b0": {
          "model_module": "@jupyter-widgets/base",
          "model_module_version": "1.2.0",
          "model_name": "LayoutModel",
          "state": {
            "_model_module": "@jupyter-widgets/base",
            "_model_module_version": "1.2.0",
            "_model_name": "LayoutModel",
            "_view_count": null,
            "_view_module": "@jupyter-widgets/base",
            "_view_module_version": "1.2.0",
            "_view_name": "LayoutView",
            "align_content": null,
            "align_items": null,
            "align_self": null,
            "border": null,
            "bottom": null,
            "display": null,
            "flex": null,
            "flex_flow": null,
            "grid_area": null,
            "grid_auto_columns": null,
            "grid_auto_flow": null,
            "grid_auto_rows": null,
            "grid_column": null,
            "grid_gap": null,
            "grid_row": null,
            "grid_template_areas": null,
            "grid_template_columns": null,
            "grid_template_rows": null,
            "height": null,
            "justify_content": null,
            "justify_items": null,
            "left": null,
            "margin": null,
            "max_height": null,
            "max_width": null,
            "min_height": null,
            "min_width": null,
            "object_fit": null,
            "object_position": null,
            "order": null,
            "overflow": null,
            "overflow_x": null,
            "overflow_y": null,
            "padding": null,
            "right": null,
            "top": null,
            "visibility": null,
            "width": null
          }
        },
        "9888e7e7b87d4a5bb63900e88ea25542": {
          "model_module": "@jupyter-widgets/base",
          "model_module_version": "1.2.0",
          "model_name": "LayoutModel",
          "state": {
            "_model_module": "@jupyter-widgets/base",
            "_model_module_version": "1.2.0",
            "_model_name": "LayoutModel",
            "_view_count": null,
            "_view_module": "@jupyter-widgets/base",
            "_view_module_version": "1.2.0",
            "_view_name": "LayoutView",
            "align_content": null,
            "align_items": null,
            "align_self": null,
            "border": null,
            "bottom": null,
            "display": null,
            "flex": null,
            "flex_flow": null,
            "grid_area": null,
            "grid_auto_columns": null,
            "grid_auto_flow": null,
            "grid_auto_rows": null,
            "grid_column": null,
            "grid_gap": null,
            "grid_row": null,
            "grid_template_areas": null,
            "grid_template_columns": null,
            "grid_template_rows": null,
            "height": null,
            "justify_content": null,
            "justify_items": null,
            "left": null,
            "margin": null,
            "max_height": null,
            "max_width": null,
            "min_height": null,
            "min_width": null,
            "object_fit": null,
            "object_position": null,
            "order": null,
            "overflow": null,
            "overflow_x": null,
            "overflow_y": null,
            "padding": null,
            "right": null,
            "top": null,
            "visibility": "hidden",
            "width": null
          }
        },
        "98b9f34b628545e585ef0fd331862d59": {
          "model_module": "@jupyter-widgets/controls",
          "model_module_version": "1.5.0",
          "model_name": "FloatProgressModel",
          "state": {
            "_dom_classes": [],
            "_model_module": "@jupyter-widgets/controls",
            "_model_module_version": "1.5.0",
            "_model_name": "FloatProgressModel",
            "_view_count": null,
            "_view_module": "@jupyter-widgets/controls",
            "_view_module_version": "1.5.0",
            "_view_name": "ProgressView",
            "bar_style": "",
            "description": "",
            "description_tooltip": null,
            "layout": "IPY_MODEL_31864b0c0d184c42886e8c93179d4e3f",
            "max": 469,
            "min": 0,
            "orientation": "horizontal",
            "style": "IPY_MODEL_0a69896713a645f08774bbe71d54009c",
            "value": 469
          }
        },
        "a1f8b01e99844b269cbd4fe6dd9b395d": {
          "model_module": "@jupyter-widgets/base",
          "model_module_version": "1.2.0",
          "model_name": "LayoutModel",
          "state": {
            "_model_module": "@jupyter-widgets/base",
            "_model_module_version": "1.2.0",
            "_model_name": "LayoutModel",
            "_view_count": null,
            "_view_module": "@jupyter-widgets/base",
            "_view_module_version": "1.2.0",
            "_view_name": "LayoutView",
            "align_content": null,
            "align_items": null,
            "align_self": null,
            "border": null,
            "bottom": null,
            "display": null,
            "flex": null,
            "flex_flow": null,
            "grid_area": null,
            "grid_auto_columns": null,
            "grid_auto_flow": null,
            "grid_auto_rows": null,
            "grid_column": null,
            "grid_gap": null,
            "grid_row": null,
            "grid_template_areas": null,
            "grid_template_columns": null,
            "grid_template_rows": null,
            "height": null,
            "justify_content": null,
            "justify_items": null,
            "left": null,
            "margin": null,
            "max_height": null,
            "max_width": null,
            "min_height": null,
            "min_width": null,
            "object_fit": null,
            "object_position": null,
            "order": null,
            "overflow": null,
            "overflow_x": null,
            "overflow_y": null,
            "padding": null,
            "right": null,
            "top": null,
            "visibility": null,
            "width": null
          }
        },
        "a2f25cae3dc54e409dcb6f2e5a7eab02": {
          "model_module": "@jupyter-widgets/controls",
          "model_module_version": "1.5.0",
          "model_name": "DescriptionStyleModel",
          "state": {
            "_model_module": "@jupyter-widgets/controls",
            "_model_module_version": "1.5.0",
            "_model_name": "DescriptionStyleModel",
            "_view_count": null,
            "_view_module": "@jupyter-widgets/base",
            "_view_module_version": "1.2.0",
            "_view_name": "StyleView",
            "description_width": ""
          }
        },
        "a3df0c93d50e4af9a81f15d12e1e344c": {
          "model_module": "@jupyter-widgets/base",
          "model_module_version": "1.2.0",
          "model_name": "LayoutModel",
          "state": {
            "_model_module": "@jupyter-widgets/base",
            "_model_module_version": "1.2.0",
            "_model_name": "LayoutModel",
            "_view_count": null,
            "_view_module": "@jupyter-widgets/base",
            "_view_module_version": "1.2.0",
            "_view_name": "LayoutView",
            "align_content": null,
            "align_items": null,
            "align_self": null,
            "border": null,
            "bottom": null,
            "display": null,
            "flex": null,
            "flex_flow": null,
            "grid_area": null,
            "grid_auto_columns": null,
            "grid_auto_flow": null,
            "grid_auto_rows": null,
            "grid_column": null,
            "grid_gap": null,
            "grid_row": null,
            "grid_template_areas": null,
            "grid_template_columns": null,
            "grid_template_rows": null,
            "height": null,
            "justify_content": null,
            "justify_items": null,
            "left": null,
            "margin": null,
            "max_height": null,
            "max_width": null,
            "min_height": null,
            "min_width": null,
            "object_fit": null,
            "object_position": null,
            "order": null,
            "overflow": null,
            "overflow_x": null,
            "overflow_y": null,
            "padding": null,
            "right": null,
            "top": null,
            "visibility": null,
            "width": null
          }
        },
        "ae13954ad6544a6abcb0f0bb73960509": {
          "model_module": "@jupyter-widgets/controls",
          "model_module_version": "1.5.0",
          "model_name": "DescriptionStyleModel",
          "state": {
            "_model_module": "@jupyter-widgets/controls",
            "_model_module_version": "1.5.0",
            "_model_name": "DescriptionStyleModel",
            "_view_count": null,
            "_view_module": "@jupyter-widgets/base",
            "_view_module_version": "1.2.0",
            "_view_name": "StyleView",
            "description_width": ""
          }
        },
        "b297b1c5da1b4b65aa56aeaea7e51770": {
          "model_module": "@jupyter-widgets/base",
          "model_module_version": "1.2.0",
          "model_name": "LayoutModel",
          "state": {
            "_model_module": "@jupyter-widgets/base",
            "_model_module_version": "1.2.0",
            "_model_name": "LayoutModel",
            "_view_count": null,
            "_view_module": "@jupyter-widgets/base",
            "_view_module_version": "1.2.0",
            "_view_name": "LayoutView",
            "align_content": null,
            "align_items": null,
            "align_self": null,
            "border": null,
            "bottom": null,
            "display": null,
            "flex": null,
            "flex_flow": null,
            "grid_area": null,
            "grid_auto_columns": null,
            "grid_auto_flow": null,
            "grid_auto_rows": null,
            "grid_column": null,
            "grid_gap": null,
            "grid_row": null,
            "grid_template_areas": null,
            "grid_template_columns": null,
            "grid_template_rows": null,
            "height": null,
            "justify_content": null,
            "justify_items": null,
            "left": null,
            "margin": null,
            "max_height": null,
            "max_width": null,
            "min_height": null,
            "min_width": null,
            "object_fit": null,
            "object_position": null,
            "order": null,
            "overflow": null,
            "overflow_x": null,
            "overflow_y": null,
            "padding": null,
            "right": null,
            "top": null,
            "visibility": null,
            "width": null
          }
        },
        "b9587bbe203240499f465c20eef21e12": {
          "model_module": "@jupyter-widgets/base",
          "model_module_version": "1.2.0",
          "model_name": "LayoutModel",
          "state": {
            "_model_module": "@jupyter-widgets/base",
            "_model_module_version": "1.2.0",
            "_model_name": "LayoutModel",
            "_view_count": null,
            "_view_module": "@jupyter-widgets/base",
            "_view_module_version": "1.2.0",
            "_view_name": "LayoutView",
            "align_content": null,
            "align_items": null,
            "align_self": null,
            "border": null,
            "bottom": null,
            "display": null,
            "flex": null,
            "flex_flow": null,
            "grid_area": null,
            "grid_auto_columns": null,
            "grid_auto_flow": null,
            "grid_auto_rows": null,
            "grid_column": null,
            "grid_gap": null,
            "grid_row": null,
            "grid_template_areas": null,
            "grid_template_columns": null,
            "grid_template_rows": null,
            "height": null,
            "justify_content": null,
            "justify_items": null,
            "left": null,
            "margin": null,
            "max_height": null,
            "max_width": null,
            "min_height": null,
            "min_width": null,
            "object_fit": null,
            "object_position": null,
            "order": null,
            "overflow": null,
            "overflow_x": null,
            "overflow_y": null,
            "padding": null,
            "right": null,
            "top": null,
            "visibility": null,
            "width": null
          }
        },
        "b9abdeeab44c4b0e9601b0e1d7710f40": {
          "model_module": "@jupyter-widgets/controls",
          "model_module_version": "1.5.0",
          "model_name": "HBoxModel",
          "state": {
            "_dom_classes": [],
            "_model_module": "@jupyter-widgets/controls",
            "_model_module_version": "1.5.0",
            "_model_name": "HBoxModel",
            "_view_count": null,
            "_view_module": "@jupyter-widgets/controls",
            "_view_module_version": "1.5.0",
            "_view_name": "HBoxView",
            "box_style": "",
            "children": [
              "IPY_MODEL_8bc0f4b7207a4c65a922a3a361aab0a4",
              "IPY_MODEL_7c2cadcb5f914c1daeab73a1ad6813b0",
              "IPY_MODEL_38027a3b9e4740e3b84c45ba83e04819"
            ],
            "layout": "IPY_MODEL_9128f1515a394803a7a0fd51bdfc22cd"
          }
        },
        "bf2c6cdaf03d4764bcfc9162aaa756be": {
          "model_module": "@jupyter-widgets/controls",
          "model_module_version": "1.5.0",
          "model_name": "DescriptionStyleModel",
          "state": {
            "_model_module": "@jupyter-widgets/controls",
            "_model_module_version": "1.5.0",
            "_model_name": "DescriptionStyleModel",
            "_view_count": null,
            "_view_module": "@jupyter-widgets/base",
            "_view_module_version": "1.2.0",
            "_view_name": "StyleView",
            "description_width": ""
          }
        },
        "c3b26fce19274304bf9cd0531c0dae79": {
          "model_module": "@jupyter-widgets/controls",
          "model_module_version": "1.5.0",
          "model_name": "HTMLModel",
          "state": {
            "_dom_classes": [],
            "_model_module": "@jupyter-widgets/controls",
            "_model_module_version": "1.5.0",
            "_model_name": "HTMLModel",
            "_view_count": null,
            "_view_module": "@jupyter-widgets/controls",
            "_view_module_version": "1.5.0",
            "_view_name": "HTMLView",
            "description": "",
            "description_tooltip": null,
            "layout": "IPY_MODEL_090e85410b004066b9a96f87c7cefc9e",
            "placeholder": "​",
            "style": "IPY_MODEL_a2f25cae3dc54e409dcb6f2e5a7eab02",
            "value": " 160/469 [00:43&lt;01:25,  3.61it/s]"
          }
        },
        "c9c039a55d2641b8b7b74497c10190bb": {
          "model_module": "@jupyter-widgets/controls",
          "model_module_version": "1.5.0",
          "model_name": "ProgressStyleModel",
          "state": {
            "_model_module": "@jupyter-widgets/controls",
            "_model_module_version": "1.5.0",
            "_model_name": "ProgressStyleModel",
            "_view_count": null,
            "_view_module": "@jupyter-widgets/base",
            "_view_module_version": "1.2.0",
            "_view_name": "StyleView",
            "bar_color": null,
            "description_width": ""
          }
        },
        "ce2346c06c3945cb85df747158898cce": {
          "model_module": "@jupyter-widgets/controls",
          "model_module_version": "1.5.0",
          "model_name": "DescriptionStyleModel",
          "state": {
            "_model_module": "@jupyter-widgets/controls",
            "_model_module_version": "1.5.0",
            "_model_name": "DescriptionStyleModel",
            "_view_count": null,
            "_view_module": "@jupyter-widgets/base",
            "_view_module_version": "1.2.0",
            "_view_name": "StyleView",
            "description_width": ""
          }
        },
        "d40f46f0e0bf4b1788d593a2757c9efa": {
          "model_module": "@jupyter-widgets/controls",
          "model_module_version": "1.5.0",
          "model_name": "DescriptionStyleModel",
          "state": {
            "_model_module": "@jupyter-widgets/controls",
            "_model_module_version": "1.5.0",
            "_model_name": "DescriptionStyleModel",
            "_view_count": null,
            "_view_module": "@jupyter-widgets/base",
            "_view_module_version": "1.2.0",
            "_view_name": "StyleView",
            "description_width": ""
          }
        },
        "d4a1026582dc42a3b902a7c6d2ae62ea": {
          "model_module": "@jupyter-widgets/controls",
          "model_module_version": "1.5.0",
          "model_name": "DescriptionStyleModel",
          "state": {
            "_model_module": "@jupyter-widgets/controls",
            "_model_module_version": "1.5.0",
            "_model_name": "DescriptionStyleModel",
            "_view_count": null,
            "_view_module": "@jupyter-widgets/base",
            "_view_module_version": "1.2.0",
            "_view_name": "StyleView",
            "description_width": ""
          }
        },
        "da912472a72448e0be4ec28dd0fa144e": {
          "model_module": "@jupyter-widgets/base",
          "model_module_version": "1.2.0",
          "model_name": "LayoutModel",
          "state": {
            "_model_module": "@jupyter-widgets/base",
            "_model_module_version": "1.2.0",
            "_model_name": "LayoutModel",
            "_view_count": null,
            "_view_module": "@jupyter-widgets/base",
            "_view_module_version": "1.2.0",
            "_view_name": "LayoutView",
            "align_content": null,
            "align_items": null,
            "align_self": null,
            "border": null,
            "bottom": null,
            "display": null,
            "flex": null,
            "flex_flow": null,
            "grid_area": null,
            "grid_auto_columns": null,
            "grid_auto_flow": null,
            "grid_auto_rows": null,
            "grid_column": null,
            "grid_gap": null,
            "grid_row": null,
            "grid_template_areas": null,
            "grid_template_columns": null,
            "grid_template_rows": null,
            "height": null,
            "justify_content": null,
            "justify_items": null,
            "left": null,
            "margin": null,
            "max_height": null,
            "max_width": null,
            "min_height": null,
            "min_width": null,
            "object_fit": null,
            "object_position": null,
            "order": null,
            "overflow": null,
            "overflow_x": null,
            "overflow_y": null,
            "padding": null,
            "right": null,
            "top": null,
            "visibility": "hidden",
            "width": null
          }
        },
        "db50c541e0e44deebdec872e496bc373": {
          "model_module": "@jupyter-widgets/controls",
          "model_module_version": "1.5.0",
          "model_name": "FloatProgressModel",
          "state": {
            "_dom_classes": [],
            "_model_module": "@jupyter-widgets/controls",
            "_model_module_version": "1.5.0",
            "_model_name": "FloatProgressModel",
            "_view_count": null,
            "_view_module": "@jupyter-widgets/controls",
            "_view_module_version": "1.5.0",
            "_view_name": "ProgressView",
            "bar_style": "",
            "description": "",
            "description_tooltip": null,
            "layout": "IPY_MODEL_4dd18044f6564502a4fcf659f32e8c7d",
            "max": 469,
            "min": 0,
            "orientation": "horizontal",
            "style": "IPY_MODEL_c9c039a55d2641b8b7b74497c10190bb",
            "value": 469
          }
        },
        "e113a98efe9241059ca8eccaf5c84a32": {
          "model_module": "@jupyter-widgets/controls",
          "model_module_version": "1.5.0",
          "model_name": "HTMLModel",
          "state": {
            "_dom_classes": [],
            "_model_module": "@jupyter-widgets/controls",
            "_model_module_version": "1.5.0",
            "_model_name": "HTMLModel",
            "_view_count": null,
            "_view_module": "@jupyter-widgets/controls",
            "_view_module_version": "1.5.0",
            "_view_name": "HTMLView",
            "description": "",
            "description_tooltip": null,
            "layout": "IPY_MODEL_1468f89b3a2c4bda9b73b580f90e8464",
            "placeholder": "​",
            "style": "IPY_MODEL_ae13954ad6544a6abcb0f0bb73960509",
            "value": "Batches: 100%"
          }
        },
        "f3d17766ada44f4da79b72b6df857ac3": {
          "model_module": "@jupyter-widgets/base",
          "model_module_version": "1.2.0",
          "model_name": "LayoutModel",
          "state": {
            "_model_module": "@jupyter-widgets/base",
            "_model_module_version": "1.2.0",
            "_model_name": "LayoutModel",
            "_view_count": null,
            "_view_module": "@jupyter-widgets/base",
            "_view_module_version": "1.2.0",
            "_view_name": "LayoutView",
            "align_content": null,
            "align_items": null,
            "align_self": null,
            "border": null,
            "bottom": null,
            "display": null,
            "flex": null,
            "flex_flow": null,
            "grid_area": null,
            "grid_auto_columns": null,
            "grid_auto_flow": null,
            "grid_auto_rows": null,
            "grid_column": null,
            "grid_gap": null,
            "grid_row": null,
            "grid_template_areas": null,
            "grid_template_columns": null,
            "grid_template_rows": null,
            "height": null,
            "justify_content": null,
            "justify_items": null,
            "left": null,
            "margin": null,
            "max_height": null,
            "max_width": null,
            "min_height": null,
            "min_width": null,
            "object_fit": null,
            "object_position": null,
            "order": null,
            "overflow": null,
            "overflow_x": null,
            "overflow_y": null,
            "padding": null,
            "right": null,
            "top": null,
            "visibility": null,
            "width": null
          }
        },
        "f8f3ae9b67fd410bb9cfdea6ddf7f069": {
          "model_module": "@jupyter-widgets/controls",
          "model_module_version": "1.5.0",
          "model_name": "DescriptionStyleModel",
          "state": {
            "_model_module": "@jupyter-widgets/controls",
            "_model_module_version": "1.5.0",
            "_model_name": "DescriptionStyleModel",
            "_view_count": null,
            "_view_module": "@jupyter-widgets/base",
            "_view_module_version": "1.2.0",
            "_view_name": "StyleView",
            "description_width": ""
          }
        },
        "fa0614bc95ee4ffba8afe60951b6914c": {
          "model_module": "@jupyter-widgets/base",
          "model_module_version": "1.2.0",
          "model_name": "LayoutModel",
          "state": {
            "_model_module": "@jupyter-widgets/base",
            "_model_module_version": "1.2.0",
            "_model_name": "LayoutModel",
            "_view_count": null,
            "_view_module": "@jupyter-widgets/base",
            "_view_module_version": "1.2.0",
            "_view_name": "LayoutView",
            "align_content": null,
            "align_items": null,
            "align_self": null,
            "border": null,
            "bottom": null,
            "display": null,
            "flex": null,
            "flex_flow": null,
            "grid_area": null,
            "grid_auto_columns": null,
            "grid_auto_flow": null,
            "grid_auto_rows": null,
            "grid_column": null,
            "grid_gap": null,
            "grid_row": null,
            "grid_template_areas": null,
            "grid_template_columns": null,
            "grid_template_rows": null,
            "height": null,
            "justify_content": null,
            "justify_items": null,
            "left": null,
            "margin": null,
            "max_height": null,
            "max_width": null,
            "min_height": null,
            "min_width": null,
            "object_fit": null,
            "object_position": null,
            "order": null,
            "overflow": null,
            "overflow_x": null,
            "overflow_y": null,
            "padding": null,
            "right": null,
            "top": null,
            "visibility": null,
            "width": null
          }
        },
        "fdeeef37966f402980963054f3705e7a": {
          "model_module": "@jupyter-widgets/controls",
          "model_module_version": "1.5.0",
          "model_name": "HBoxModel",
          "state": {
            "_dom_classes": [],
            "_model_module": "@jupyter-widgets/controls",
            "_model_module_version": "1.5.0",
            "_model_name": "HBoxModel",
            "_view_count": null,
            "_view_module": "@jupyter-widgets/controls",
            "_view_module_version": "1.5.0",
            "_view_name": "HBoxView",
            "box_style": "",
            "children": [
              "IPY_MODEL_33f3720efe19496e980fd824aecd48bb",
              "IPY_MODEL_3ac1081cfea449fcad7a2c40aa3475de",
              "IPY_MODEL_c3b26fce19274304bf9cd0531c0dae79"
            ],
            "layout": "IPY_MODEL_a1f8b01e99844b269cbd4fe6dd9b395d"
          }
        }
      }
    }
  },
  "nbformat": 4,
  "nbformat_minor": 0
}
